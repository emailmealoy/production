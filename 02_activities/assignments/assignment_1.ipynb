{
 "cells": [
  {
   "cell_type": "markdown",
   "metadata": {},
   "source": [
    "# Working with parquet files\n",
    "\n",
    "## Objective\n",
    "\n",
    "+ In this assignment, we will use the data downloaded with the module `data_manager` to create features.\n",
    "\n",
    "(11 pts total)\n",
    "\n",
    "## Prerequisites\n",
    "\n",
    "+ This notebook assumes that price data is available to you in the environment variable `PRICE_DATA`. If you have not done so, then execute the notebook `01_materials/labs/2_data_engineering.ipynb` to create this data set.\n"
   ]
  },
  {
   "cell_type": "markdown",
   "metadata": {},
   "source": [
    "+ Load the environment variables using dotenv. (1 pt)"
   ]
  },
  {
   "cell_type": "code",
   "execution_count": 51,
   "metadata": {},
   "outputs": [
    {
     "name": "stdout",
     "output_type": "stream",
     "text": [
      "PRICE_DATA path: ../../05_src/data/prices/\n"
     ]
    }
   ],
   "source": [
    "# Write your code below.\n",
    "\n",
    "from dotenv import load_dotenv\n",
    "import os\n",
    "\n",
    "# Load environment variables from .env file\n",
    "load_dotenv()\n",
    "\n",
    "# Verify that PRICE_DATA is loaded\n",
    "price_data_path = os.getenv('PRICE_DATA')\n",
    "print(f\"PRICE_DATA path: {price_data_path}\")"
   ]
  },
  {
   "cell_type": "code",
   "execution_count": 52,
   "metadata": {},
   "outputs": [],
   "source": [
    "import dask.dataframe as dd"
   ]
  },
  {
   "cell_type": "markdown",
   "metadata": {},
   "source": [
    "+ Load the environment variable `PRICE_DATA`.\n",
    "+ Use [glob](https://docs.python.org/3/library/glob.html) to find the path of all parquet files in the directory `PRICE_DATA`.\n",
    "\n",
    "(1pt)"
   ]
  },
  {
   "cell_type": "code",
   "execution_count": 53,
   "metadata": {},
   "outputs": [
    {
     "name": "stdout",
     "output_type": "stream",
     "text": [
      "Found 2870 parquet files.\n"
     ]
    },
    {
     "data": {
      "text/plain": [
       "['../../05_src/data/prices/BKTI/BKTI_2012/part.0.parquet',\n",
       " '../../05_src/data/prices/BKTI/BKTI_2012/part.1.parquet',\n",
       " '../../05_src/data/prices/BKTI/BKTI_2015/part.0.parquet',\n",
       " '../../05_src/data/prices/BKTI/BKTI_2015/part.1.parquet',\n",
       " '../../05_src/data/prices/BKTI/BKTI_2014/part.0.parquet']"
      ]
     },
     "execution_count": 53,
     "metadata": {},
     "output_type": "execute_result"
    }
   ],
   "source": [
    "import os\n",
    "from glob import glob\n",
    "\n",
    "# Write your code below.\n",
    "parquet_files = glob(os.path.join(price_data_path, \"**\", \"*.parquet\"), recursive=True)\n",
    "\n",
    "# Display the list of found Parquet files\n",
    "print(f\"Found {len(parquet_files)} parquet files.\")\n",
    "parquet_files[:5]  # show a sample of the paths"
   ]
  },
  {
   "cell_type": "markdown",
   "metadata": {},
   "source": [
    "For each ticker and using Dask, do the following:\n",
    "\n",
    "+ Add lags for variables Close and Adj_Close.\n",
    "+ Add returns based on Close:\n",
    "    \n",
    "    - `returns`: (Close / Close_lag_1) - 1\n",
    "\n",
    "+ Add the following range: \n",
    "\n",
    "    - `hi_lo_range`: this is the day's High minus Low.\n",
    "\n",
    "+ Assign the result to `dd_feat`.\n",
    "\n",
    "(4 pt)"
   ]
  },
  {
   "cell_type": "code",
   "execution_count": 54,
   "metadata": {},
   "outputs": [
    {
     "name": "stdout",
     "output_type": "stream",
     "text": [
      "Index(['Date', 'Open', 'High', 'Low', 'Close', 'Adj_Close', 'Volume', 'source',\n",
      "       'ticker', 'Year'],\n",
      "      dtype='object')\n"
     ]
    }
   ],
   "source": [
    "#rename to remove spaces in the names\n",
    "ddf.columns = ddf.columns.str.replace(\" \", \"_\")\n",
    "ddf = ddf.reset_index(drop=True)\n",
    "print(ddf.columns)\n"
   ]
  },
  {
   "cell_type": "code",
   "execution_count": 55,
   "metadata": {},
   "outputs": [],
   "source": [
    "# Write your code below.\n",
    "\n",
    "# Read all Parquet files into a Dask DataFrame\n",
    "ddf = dd.read_parquet(parquet_files, engine='pyarrow', index=False)\n",
    "\n",
    "# Define feature engineering function\n",
    "def add_features(df):\n",
    "    df = df.sort_values(['ticker', 'Date']) # Ensure sorting by Date for proper lag computation\n",
    "    # Create lag features\n",
    "    df['Close_lag_1'] = df.groupby('ticker')['Close'].shift(1)\n",
    "    df['Adj_Close_lag_1'] = df.groupby('ticker')['Adj Close'].shift(1)\n",
    "    # Create returns: (Close / Close_lag_1) - 1\n",
    "    df['returns'] = (df['Close'] / df['Close_lag_1']) - 1\n",
    "    # Create hi_lo_range: High - Low\n",
    "    df['hi_lo_range'] = df['High'] - df['Low']\n",
    "    return df\n",
    "\n",
    "# Apply the transformation partition-wise\n",
    "dd_feat = ddf.map_partitions(add_features)"
   ]
  },
  {
   "cell_type": "markdown",
   "metadata": {},
   "source": [
    "+ Convert the Dask data frame to a pandas data frame. \n",
    "+ Add a new feature containing the moving average of `returns` using a window of 10 days. There are several ways to solve this task, a simple one uses `.rolling(10).mean()`.\n",
    "\n",
    "(3 pt)"
   ]
  },
  {
   "cell_type": "code",
   "execution_count": 56,
   "metadata": {},
   "outputs": [
    {
     "name": "stdout",
     "output_type": "stream",
     "text": [
      "   ticker   returns  returns_ma_10\n",
      "0       A       NaN            NaN\n",
      "1       A -0.082386            NaN\n",
      "2       A  0.089783            NaN\n",
      "3       A -0.090909            NaN\n",
      "4       A  0.026563            NaN\n",
      "5       A  0.003044            NaN\n",
      "6       A  0.022762            NaN\n",
      "7       A  0.001484            NaN\n",
      "8       A  0.017778            NaN\n",
      "9       A  0.027656            NaN\n",
      "10      A  0.008499       0.002427\n",
      "11      A  0.028090       0.013475\n",
      "12      A -0.010929       0.003404\n",
      "13      A -0.001381       0.012356\n",
      "14      A  0.013831       0.011083\n"
     ]
    }
   ],
   "source": [
    "# Write your code below.\n",
    "\n",
    "df_feat = dd_feat.compute()\n",
    "\n",
    "df_feat['returns_ma_10'] = df_feat.groupby(\n",
    " \t\t\t'ticker')['returns'].rolling(10).mean().reset_index(level=0, drop=True)\n",
    "\n",
    "# Show the first few rows\n",
    "print(df_feat[['ticker', 'returns', 'returns_ma_10']].head(15))"
   ]
  },
  {
   "cell_type": "markdown",
   "metadata": {},
   "source": [
    "Please comment:\n",
    "\n",
    "+ Was it necessary to convert to pandas to calculate the moving average return?\n",
    "+ Would it have been better to do it in Dask? Why?\n",
    "\n",
    "(1 pt)"
   ]
  },
  {
   "cell_type": "markdown",
   "metadata": {},
   "source": [
    "- No, it was not strictly necessary. Dask’s rolling operations require the data to be properly partitioned and sorted, and they may not work correctly across partition boundaries without additional configuration.\n",
    "- For small to medium-sized datasets, using pandas is simpler and often more practical. It offers easier syntax and immediate feedback."
   ]
  },
  {
   "cell_type": "markdown",
   "metadata": {},
   "source": [
    "## Criteria\n",
    "\n",
    "The [rubric](./assignment_1_rubric_clean.xlsx) contains the criteria for grading."
   ]
  },
  {
   "cell_type": "markdown",
   "metadata": {},
   "source": [
    "## Submission Information\n",
    "\n",
    "🚨 **Please review our [Assignment Submission Guide](https://github.com/UofT-DSI/onboarding/blob/main/onboarding_documents/submissions.md)** 🚨 for detailed instructions on how to format, branch, and submit your work. Following these guidelines is crucial for your submissions to be evaluated correctly.\n",
    "\n",
    "### Submission Parameters:\n",
    "* Submission Due Date: `HH:MM AM/PM - DD/MM/YYYY`\n",
    "* The branch name for your repo should be: `assignment-1`\n",
    "* What to submit for this assignment:\n",
    "    * This Jupyter Notebook (assignment_1.ipynb) should be populated and should be the only change in your pull request.\n",
    "* What the pull request link should look like for this assignment: `https://github.com/<your_github_username>/production/pull/<pr_id>`\n",
    "    * Open a private window in your browser. Copy and paste the link to your pull request into the address bar. Make sure you can see your pull request properly. This helps the technical facilitator and learning support staff review your submission easily.\n",
    "\n",
    "Checklist:\n",
    "- [ ] Created a branch with the correct naming convention.\n",
    "- [ ] Ensured that the repository is public.\n",
    "- [ ] Reviewed the PR description guidelines and adhered to them.\n",
    "- [ ] Verify that the link is accessible in a private browser window.\n",
    "\n",
    "If you encounter any difficulties or have questions, please don't hesitate to reach out to our team via our Slack at `#cohort-3-help`. Our Technical Facilitators and Learning Support staff are here to help you navigate any challenges."
   ]
  }
 ],
 "metadata": {
  "kernelspec": {
   "display_name": "dsi_participant",
   "language": "python",
   "name": "python3"
  },
  "language_info": {
   "codemirror_mode": {
    "name": "ipython",
    "version": 3
   },
   "file_extension": ".py",
   "mimetype": "text/x-python",
   "name": "python",
   "nbconvert_exporter": "python",
   "pygments_lexer": "ipython3",
   "version": "3.9.7"
  }
 },
 "nbformat": 4,
 "nbformat_minor": 2
}
