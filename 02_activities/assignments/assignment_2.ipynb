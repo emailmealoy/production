{
 "cells": [
  {
   "cell_type": "markdown",
   "metadata": {},
   "source": [
    "# Assignment 2"
   ]
  },
  {
   "cell_type": "markdown",
   "metadata": {},
   "source": [
    "In this assigment, we will work with the *Forest Fire* data set. Please download the data from the [UCI Machine Learning Repository](https://archive.ics.uci.edu/dataset/162/forest+fires). Extract the data files into the subdirectory: `../data/fires/` (relative to `./05_src/`).\n",
    "\n",
    "## Objective\n",
    "\n",
    "+ The model objective is to predict the area affected by forest fires given the features set. \n",
    "+ The objective of this exercise is to assess your ability to construct and evaluate model pipelines.\n",
    "+ Please note: the instructions are not meant to be 100% prescriptive, but instead they are a set of minimum requirements. If you find predictive performance gains by applying additional steps, by all means show them. "
   ]
  },
  {
   "cell_type": "markdown",
   "metadata": {},
   "source": [
    "## Variable Description\n",
    "\n",
    "From the description file contained in the archive (`forestfires.names`), we obtain the following variable descriptions:\n",
    "\n",
    "1. X - x-axis spatial coordinate within the Montesinho park map: 1 to 9\n",
    "2. Y - y-axis spatial coordinate within the Montesinho park map: 2 to 9\n",
    "3. month - month of the year: \"jan\" to \"dec\" \n",
    "4. day - day of the week: \"mon\" to \"sun\"\n",
    "5. FFMC - FFMC index from the FWI system: 18.7 to 96.20\n",
    "6. DMC - DMC index from the FWI system: 1.1 to 291.3 \n",
    "7. DC - DC index from the FWI system: 7.9 to 860.6 \n",
    "8. ISI - ISI index from the FWI system: 0.0 to 56.10\n",
    "9. temp - temperature in Celsius degrees: 2.2 to 33.30\n",
    "10. RH - relative humidity in %: 15.0 to 100\n",
    "11. wind - wind speed in km/h: 0.40 to 9.40 \n",
    "12. rain - outside rain in mm/m2 : 0.0 to 6.4 \n",
    "13. area - the burned area of the forest (in ha): 0.00 to 1090.84 \n",
    "\n",
    "\n",
    "\n"
   ]
  },
  {
   "cell_type": "markdown",
   "metadata": {},
   "source": [
    "\n",
    "\n",
    "\n",
    "\n",
    "### Specific Tasks\n",
    "\n",
    "+ Construct four model pipelines, out of combinations of the following components:\n",
    "\n",
    "    + Preprocessors:\n",
    "\n",
    "        - A simple processor that only scales numeric variables and recodes categorical variables.\n",
    "        - A transformation preprocessor that scales numeric variables and applies a non-linear transformation.\n",
    "    \n",
    "    + Regressor:\n",
    "\n",
    "        - A baseline regressor, which could be a [K-nearest neighbours model]() or a linear model like [Lasso](https://scikit-learn.org/stable/modules/generated/sklearn.linear_model.Lasso.html) or [Ridge Regressors](https://scikit-learn.org/stable/modules/generated/sklearn.linear_model.ridge_regression.html).\n",
    "        - An advanced regressor of your choice (e.g., Bagging, Boosting, SVR, etc.). TIP: select a tree-based method such that it does not take too long to run SHAP further below. \n",
    "\n",
    "+ Evaluate tune and evaluate each of the four model pipelines. \n",
    "\n",
    "    - Select a [performance metric](https://scikit-learn.org/stable/modules/linear_model.html) out of the following options: explained variance, max error, root mean squared error (RMSE), mean absolute error (MAE), r-squared.\n",
    "    - *TIPS*: \n",
    "    \n",
    "        * Out of the suggested metrics above, [some are correlation metrics, but this is a prediction problem](https://www.tmwr.org/performance#performance). Choose wisely (and don't choose the incorrect options.) \n",
    "\n",
    "+ Select the best-performing model and explain its predictions.\n",
    "\n",
    "    - Provide local explanations.\n",
    "    - Obtain global explanations and recommend a variable selection strategy.\n",
    "\n",
    "+ Export your model as a pickle file.\n",
    "\n",
    "\n",
    "You can work on the Jupyter notebook, as this experiment is fairly short (no need to use sacred). "
   ]
  },
  {
   "cell_type": "markdown",
   "metadata": {},
   "source": [
    "# Load the data\n",
    "\n",
    "Place the files in the ../../05_src/data/fires/ directory and load the appropriate file. "
   ]
  },
  {
   "cell_type": "code",
   "execution_count": 1,
   "metadata": {},
   "outputs": [
    {
     "name": "stdout",
     "output_type": "stream",
     "text": [
      "Requirement already satisfied: shap in /opt/miniconda3/envs/dsi_participant/lib/python3.9/site-packages (0.41.0)\n",
      "Requirement already satisfied: numpy in /opt/miniconda3/envs/dsi_participant/lib/python3.9/site-packages (from shap) (1.24.2)\n",
      "Requirement already satisfied: scipy in /opt/miniconda3/envs/dsi_participant/lib/python3.9/site-packages (from shap) (1.9.1)\n",
      "Requirement already satisfied: scikit-learn in /opt/miniconda3/envs/dsi_participant/lib/python3.9/site-packages (from shap) (1.2.2)\n",
      "Requirement already satisfied: pandas in /opt/miniconda3/envs/dsi_participant/lib/python3.9/site-packages (from shap) (2.1.4)\n",
      "Requirement already satisfied: tqdm>4.25.0 in /opt/miniconda3/envs/dsi_participant/lib/python3.9/site-packages (from shap) (4.67.1)\n",
      "Requirement already satisfied: packaging>20.9 in /opt/miniconda3/envs/dsi_participant/lib/python3.9/site-packages (from shap) (24.2)\n",
      "Requirement already satisfied: slicer==0.0.7 in /opt/miniconda3/envs/dsi_participant/lib/python3.9/site-packages (from shap) (0.0.7)\n",
      "Requirement already satisfied: numba in /opt/miniconda3/envs/dsi_participant/lib/python3.9/site-packages (from shap) (0.60.0)\n",
      "Requirement already satisfied: cloudpickle in /opt/miniconda3/envs/dsi_participant/lib/python3.9/site-packages (from shap) (3.1.1)\n",
      "Requirement already satisfied: llvmlite<0.44,>=0.43.0dev0 in /opt/miniconda3/envs/dsi_participant/lib/python3.9/site-packages (from numba->shap) (0.43.0)\n",
      "Requirement already satisfied: python-dateutil>=2.8.2 in /opt/miniconda3/envs/dsi_participant/lib/python3.9/site-packages (from pandas->shap) (2.9.0.post0)\n",
      "Requirement already satisfied: pytz>=2020.1 in /opt/miniconda3/envs/dsi_participant/lib/python3.9/site-packages (from pandas->shap) (2025.2)\n",
      "Requirement already satisfied: tzdata>=2022.1 in /opt/miniconda3/envs/dsi_participant/lib/python3.9/site-packages (from pandas->shap) (2025.2)\n",
      "Requirement already satisfied: joblib>=1.1.1 in /opt/miniconda3/envs/dsi_participant/lib/python3.9/site-packages (from scikit-learn->shap) (1.4.2)\n",
      "Requirement already satisfied: threadpoolctl>=2.0.0 in /opt/miniconda3/envs/dsi_participant/lib/python3.9/site-packages (from scikit-learn->shap) (3.6.0)\n",
      "Requirement already satisfied: six>=1.5 in /opt/miniconda3/envs/dsi_participant/lib/python3.9/site-packages (from python-dateutil>=2.8.2->pandas->shap) (1.17.0)\n",
      "Note: you may need to restart the kernel to use updated packages.\n"
     ]
    }
   ],
   "source": [
    "%pip install shap"
   ]
  },
  {
   "cell_type": "code",
   "execution_count": 2,
   "metadata": {},
   "outputs": [
    {
     "name": "stderr",
     "output_type": "stream",
     "text": [
      "/opt/miniconda3/envs/dsi_participant/lib/python3.9/site-packages/torch/utils/_pytree.py:185: FutureWarning: optree is installed but the version is too old to support PyTorch Dynamo in C++ pytree. C++ pytree support is disabled. Please consider upgrading optree using `python3 -m pip install --upgrade 'optree>=0.13.0'`.\n",
      "  warnings.warn(\n",
      "/opt/miniconda3/envs/dsi_participant/lib/python3.9/site-packages/tqdm/auto.py:21: TqdmWarning: IProgress not found. Please update jupyter and ipywidgets. See https://ipywidgets.readthedocs.io/en/stable/user_install.html\n",
      "  from .autonotebook import tqdm as notebook_tqdm\n"
     ]
    }
   ],
   "source": [
    "import pandas as pd\n",
    "import numpy as np\n",
    "from sklearn.model_selection import train_test_split, GridSearchCV, cross_val_score\n",
    "from sklearn.pipeline import Pipeline\n",
    "from sklearn.compose import ColumnTransformer\n",
    "from sklearn.preprocessing import StandardScaler, MinMaxScaler, RobustScaler, OneHotEncoder, FunctionTransformer\n",
    "from sklearn.linear_model import Ridge, Lasso\n",
    "from sklearn.neighbors import KNeighborsRegressor\n",
    "from sklearn.ensemble import RandomForestRegressor, GradientBoostingRegressor\n",
    "from sklearn.metrics import mean_squared_error, mean_absolute_error, r2_score\n",
    "import shap\n",
    "import pickle"
   ]
  },
  {
   "cell_type": "code",
   "execution_count": 3,
   "metadata": {},
   "outputs": [
    {
     "name": "stdout",
     "output_type": "stream",
     "text": [
      "<class 'pandas.core.frame.DataFrame'>\n",
      "RangeIndex: 517 entries, 0 to 516\n",
      "Data columns (total 13 columns):\n",
      " #   Column   Non-Null Count  Dtype  \n",
      "---  ------   --------------  -----  \n",
      " 0   coord_x  517 non-null    int64  \n",
      " 1   coord_y  517 non-null    int64  \n",
      " 2   month    517 non-null    object \n",
      " 3   day      517 non-null    object \n",
      " 4   ffmc     517 non-null    float64\n",
      " 5   dmc      517 non-null    float64\n",
      " 6   dc       517 non-null    float64\n",
      " 7   isi      517 non-null    float64\n",
      " 8   temp     517 non-null    float64\n",
      " 9   rh       517 non-null    int64  \n",
      " 10  wind     517 non-null    float64\n",
      " 11  rain     517 non-null    float64\n",
      " 12  area     517 non-null    float64\n",
      "dtypes: float64(8), int64(3), object(2)\n",
      "memory usage: 52.6+ KB\n"
     ]
    }
   ],
   "source": [
    "# Load data\n",
    "columns = [\n",
    "    'coord_x', 'coord_y', 'month', 'day', 'ffmc', 'dmc', 'dc', 'isi', 'temp', 'rh', 'wind', 'rain', 'area' \n",
    "]\n",
    "fires_dt = (pd.read_csv('../../05_src/data/fires/forestfires.csv', header = 0, names = columns))\n",
    "fires_dt.info()\n"
   ]
  },
  {
   "cell_type": "markdown",
   "metadata": {},
   "source": [
    "# Get X and Y\n",
    "\n",
    "Create the features data frame and target data."
   ]
  },
  {
   "cell_type": "code",
   "execution_count": 4,
   "metadata": {},
   "outputs": [],
   "source": [
    "# Features and target\n",
    "X = fires_dt.drop('area', axis=1)\n",
    "y = fires_dt['area']"
   ]
  },
  {
   "cell_type": "markdown",
   "metadata": {},
   "source": [
    "# Preprocessing\n",
    "\n",
    "Create two [Column Transformers](https://scikit-learn.org/stable/modules/generated/sklearn.compose.ColumnTransformer.html), called preproc1 and preproc2, with the following guidelines:\n",
    "\n",
    "- Numerical variables\n",
    "\n",
    "    * (Preproc 1 and 2) Scaling: use a scaling method of your choice (Standard, Robust, Min-Max). \n",
    "    * Preproc 2 only: \n",
    "        \n",
    "        + Choose a transformation for any of your input variables (or several of them). Evaluate if this transformation is convenient.\n",
    "        + The choice of scaler is up to you.\n",
    "\n",
    "- Categorical variables: \n",
    "    \n",
    "    * (Preproc 1 and 2) Apply [one-hot encoding](https://scikit-learn.org/stable/modules/generated/sklearn.preprocessing.OneHotEncoder.html) where appropriate.\n",
    "\n",
    "\n",
    "+ The only difference between preproc1 and preproc2 is the non-linear transformation of the numerical variables.\n",
    "    \n"
   ]
  },
  {
   "cell_type": "markdown",
   "metadata": {},
   "source": [
    "### Preproc 1\n",
    "\n",
    "Create preproc1 below.\n",
    "\n",
    "+ Numeric: scaled variables, no other transforms.\n",
    "+ Categorical: one-hot encoding."
   ]
  },
  {
   "cell_type": "code",
   "execution_count": 5,
   "metadata": {},
   "outputs": [],
   "source": [
    "numeric_features = ['coord_x', 'coord_y', 'ffmc', 'dmc', 'dc', 'isi', 'temp', 'rh', 'wind', 'rain']\n",
    "categorical_features = ['month', 'day']\n",
    "\n",
    "preproc1 = ColumnTransformer(\n",
    "    transformers=[\n",
    "        ('num', StandardScaler(), numeric_features),\n",
    "        ('cat', OneHotEncoder(handle_unknown='ignore'), categorical_features)\n",
    "    ]\n",
    ")"
   ]
  },
  {
   "cell_type": "markdown",
   "metadata": {},
   "source": [
    "### Preproc 2\n",
    "\n",
    "Create preproc1 below.\n",
    "\n",
    "+ Numeric: scaled variables, non-linear transformation to one or more variables.\n",
    "+ Categorical: one-hot encoding."
   ]
  },
  {
   "cell_type": "code",
   "execution_count": 6,
   "metadata": {},
   "outputs": [],
   "source": [
    "def log1p_transform(x):\n",
    "    return np.log1p(x)\n",
    "\n",
    "log_transformer = FunctionTransformer(log1p_transform)\n",
    "\n",
    "preproc2 = ColumnTransformer(\n",
    "    transformers=[\n",
    "        ('num', Pipeline([\n",
    "            ('log', ColumnTransformer(\n",
    "                transformers=[\n",
    "                    ('log', log_transformer, ['dmc', 'dc']),\n",
    "                    ('passthrough', 'passthrough', [col for col in numeric_features if col not in ['dmc', 'dc']])\n",
    "                ],\n",
    "                remainder='drop'\n",
    "            )),\n",
    "            ('scaler', StandardScaler())\n",
    "        ]), numeric_features),\n",
    "        ('cat', OneHotEncoder(handle_unknown='ignore'), categorical_features)\n",
    "    ]\n",
    ")"
   ]
  },
  {
   "cell_type": "markdown",
   "metadata": {},
   "source": [
    "## Model Pipeline\n",
    "\n",
    "\n",
    "Create a [model pipeline](https://scikit-learn.org/stable/modules/generated/sklearn.pipeline.Pipeline.html): \n",
    "\n",
    "+ Add a step labelled `preprocessing` and assign the Column Transformer from the previous section.\n",
    "+ Add a step labelled `regressor` and assign a regression model to it. \n",
    "\n",
    "## Regressor\n",
    "\n",
    "+ Use a regression model to perform a prediction. \n",
    "\n",
    "    - Choose a baseline regressor, tune it (if necessary) using grid search, and evaluate it using cross-validation.\n",
    "    - Choose a more advance regressor, tune it (if necessary) using grid search, and evaluate it using cross-validation.\n",
    "    - Both model choices are up to you, feel free to experiment."
   ]
  },
  {
   "cell_type": "code",
   "execution_count": 7,
   "metadata": {},
   "outputs": [],
   "source": [
    "# Pipeline A = preproc1 + baseline\n",
    "pipe_a = Pipeline([\n",
    "    ('preprocessing', preproc1),\n",
    "    ('regressor', Ridge())\n",
    "])"
   ]
  },
  {
   "cell_type": "code",
   "execution_count": 8,
   "metadata": {},
   "outputs": [],
   "source": [
    "# Pipeline B = preproc2 + baseline\n",
    "# Pipeline B = preproc2 + baseline\n",
    "pipe_b = Pipeline([\n",
    "    ('preprocessing', preproc2),\n",
    "    ('regressor', Ridge())\n",
    "])"
   ]
  },
  {
   "cell_type": "code",
   "execution_count": 9,
   "metadata": {},
   "outputs": [],
   "source": [
    "# Pipeline C = preproc1 + advanced model\n",
    "# Pipeline C = preproc1 + advanced model\n",
    "pipe_c = Pipeline([\n",
    "    ('preprocessing', preproc1),\n",
    "    ('regressor', RandomForestRegressor())\n",
    "])"
   ]
  },
  {
   "cell_type": "code",
   "execution_count": 10,
   "metadata": {},
   "outputs": [],
   "source": [
    "# Pipeline D = preproc2 + advanced model\n",
    "# Pipeline D = preproc2 + advanced model\n",
    "pipe_d = Pipeline([\n",
    "    ('preprocessing', preproc2),\n",
    "    ('regressor', GradientBoostingRegressor())\n",
    "])\n",
    "    "
   ]
  },
  {
   "cell_type": "markdown",
   "metadata": {},
   "source": [
    "# Tune Hyperparams\n",
    "\n",
    "+ Perform GridSearch on each of the four pipelines. \n",
    "+ Tune at least one hyperparameter per pipeline.\n",
    "+ Experiment with at least four value combinations per pipeline."
   ]
  },
  {
   "cell_type": "code",
   "execution_count": 11,
   "metadata": {},
   "outputs": [],
   "source": [
    "X_train, X_test, y_train, y_test = train_test_split(X, y, random_state=42)"
   ]
  },
  {
   "cell_type": "code",
   "execution_count": 12,
   "metadata": {},
   "outputs": [
    {
     "data": {
      "text/html": [
       "<style>#sk-container-id-1 {color: black;background-color: white;}#sk-container-id-1 pre{padding: 0;}#sk-container-id-1 div.sk-toggleable {background-color: white;}#sk-container-id-1 label.sk-toggleable__label {cursor: pointer;display: block;width: 100%;margin-bottom: 0;padding: 0.3em;box-sizing: border-box;text-align: center;}#sk-container-id-1 label.sk-toggleable__label-arrow:before {content: \"▸\";float: left;margin-right: 0.25em;color: #696969;}#sk-container-id-1 label.sk-toggleable__label-arrow:hover:before {color: black;}#sk-container-id-1 div.sk-estimator:hover label.sk-toggleable__label-arrow:before {color: black;}#sk-container-id-1 div.sk-toggleable__content {max-height: 0;max-width: 0;overflow: hidden;text-align: left;background-color: #f0f8ff;}#sk-container-id-1 div.sk-toggleable__content pre {margin: 0.2em;color: black;border-radius: 0.25em;background-color: #f0f8ff;}#sk-container-id-1 input.sk-toggleable__control:checked~div.sk-toggleable__content {max-height: 200px;max-width: 100%;overflow: auto;}#sk-container-id-1 input.sk-toggleable__control:checked~label.sk-toggleable__label-arrow:before {content: \"▾\";}#sk-container-id-1 div.sk-estimator input.sk-toggleable__control:checked~label.sk-toggleable__label {background-color: #d4ebff;}#sk-container-id-1 div.sk-label input.sk-toggleable__control:checked~label.sk-toggleable__label {background-color: #d4ebff;}#sk-container-id-1 input.sk-hidden--visually {border: 0;clip: rect(1px 1px 1px 1px);clip: rect(1px, 1px, 1px, 1px);height: 1px;margin: -1px;overflow: hidden;padding: 0;position: absolute;width: 1px;}#sk-container-id-1 div.sk-estimator {font-family: monospace;background-color: #f0f8ff;border: 1px dotted black;border-radius: 0.25em;box-sizing: border-box;margin-bottom: 0.5em;}#sk-container-id-1 div.sk-estimator:hover {background-color: #d4ebff;}#sk-container-id-1 div.sk-parallel-item::after {content: \"\";width: 100%;border-bottom: 1px solid gray;flex-grow: 1;}#sk-container-id-1 div.sk-label:hover label.sk-toggleable__label {background-color: #d4ebff;}#sk-container-id-1 div.sk-serial::before {content: \"\";position: absolute;border-left: 1px solid gray;box-sizing: border-box;top: 0;bottom: 0;left: 50%;z-index: 0;}#sk-container-id-1 div.sk-serial {display: flex;flex-direction: column;align-items: center;background-color: white;padding-right: 0.2em;padding-left: 0.2em;position: relative;}#sk-container-id-1 div.sk-item {position: relative;z-index: 1;}#sk-container-id-1 div.sk-parallel {display: flex;align-items: stretch;justify-content: center;background-color: white;position: relative;}#sk-container-id-1 div.sk-item::before, #sk-container-id-1 div.sk-parallel-item::before {content: \"\";position: absolute;border-left: 1px solid gray;box-sizing: border-box;top: 0;bottom: 0;left: 50%;z-index: -1;}#sk-container-id-1 div.sk-parallel-item {display: flex;flex-direction: column;z-index: 1;position: relative;background-color: white;}#sk-container-id-1 div.sk-parallel-item:first-child::after {align-self: flex-end;width: 50%;}#sk-container-id-1 div.sk-parallel-item:last-child::after {align-self: flex-start;width: 50%;}#sk-container-id-1 div.sk-parallel-item:only-child::after {width: 0;}#sk-container-id-1 div.sk-dashed-wrapped {border: 1px dashed gray;margin: 0 0.4em 0.5em 0.4em;box-sizing: border-box;padding-bottom: 0.4em;background-color: white;}#sk-container-id-1 div.sk-label label {font-family: monospace;font-weight: bold;display: inline-block;line-height: 1.2em;}#sk-container-id-1 div.sk-label-container {text-align: center;}#sk-container-id-1 div.sk-container {/* jupyter's `normalize.less` sets `[hidden] { display: none; }` but bootstrap.min.css set `[hidden] { display: none !important; }` so we also need the `!important` here to be able to override the default hidden behavior on the sphinx rendered scikit-learn.org. See: https://github.com/scikit-learn/scikit-learn/issues/21755 */display: inline-block !important;position: relative;}#sk-container-id-1 div.sk-text-repr-fallback {display: none;}</style><div id=\"sk-container-id-1\" class=\"sk-top-container\"><div class=\"sk-text-repr-fallback\"><pre>GridSearchCV(cv=5,\n",
       "             estimator=Pipeline(steps=[(&#x27;preprocessing&#x27;,\n",
       "                                        ColumnTransformer(transformers=[(&#x27;num&#x27;,\n",
       "                                                                         StandardScaler(),\n",
       "                                                                         [&#x27;coord_x&#x27;,\n",
       "                                                                          &#x27;coord_y&#x27;,\n",
       "                                                                          &#x27;ffmc&#x27;,\n",
       "                                                                          &#x27;dmc&#x27;,\n",
       "                                                                          &#x27;dc&#x27;,\n",
       "                                                                          &#x27;isi&#x27;,\n",
       "                                                                          &#x27;temp&#x27;,\n",
       "                                                                          &#x27;rh&#x27;,\n",
       "                                                                          &#x27;wind&#x27;,\n",
       "                                                                          &#x27;rain&#x27;]),\n",
       "                                                                        (&#x27;cat&#x27;,\n",
       "                                                                         OneHotEncoder(handle_unknown=&#x27;ignore&#x27;),\n",
       "                                                                         [&#x27;month&#x27;,\n",
       "                                                                          &#x27;day&#x27;])])),\n",
       "                                       (&#x27;regressor&#x27;, Ridge())]),\n",
       "             param_grid={&#x27;regressor__alpha&#x27;: [0.01, 0.1, 1, 10]},\n",
       "             scoring=&#x27;neg_root_mean_squared_error&#x27;)</pre><b>In a Jupyter environment, please rerun this cell to show the HTML representation or trust the notebook. <br />On GitHub, the HTML representation is unable to render, please try loading this page with nbviewer.org.</b></div><div class=\"sk-container\" hidden><div class=\"sk-item sk-dashed-wrapped\"><div class=\"sk-label-container\"><div class=\"sk-label sk-toggleable\"><input class=\"sk-toggleable__control sk-hidden--visually\" id=\"sk-estimator-id-1\" type=\"checkbox\" ><label for=\"sk-estimator-id-1\" class=\"sk-toggleable__label sk-toggleable__label-arrow\">GridSearchCV</label><div class=\"sk-toggleable__content\"><pre>GridSearchCV(cv=5,\n",
       "             estimator=Pipeline(steps=[(&#x27;preprocessing&#x27;,\n",
       "                                        ColumnTransformer(transformers=[(&#x27;num&#x27;,\n",
       "                                                                         StandardScaler(),\n",
       "                                                                         [&#x27;coord_x&#x27;,\n",
       "                                                                          &#x27;coord_y&#x27;,\n",
       "                                                                          &#x27;ffmc&#x27;,\n",
       "                                                                          &#x27;dmc&#x27;,\n",
       "                                                                          &#x27;dc&#x27;,\n",
       "                                                                          &#x27;isi&#x27;,\n",
       "                                                                          &#x27;temp&#x27;,\n",
       "                                                                          &#x27;rh&#x27;,\n",
       "                                                                          &#x27;wind&#x27;,\n",
       "                                                                          &#x27;rain&#x27;]),\n",
       "                                                                        (&#x27;cat&#x27;,\n",
       "                                                                         OneHotEncoder(handle_unknown=&#x27;ignore&#x27;),\n",
       "                                                                         [&#x27;month&#x27;,\n",
       "                                                                          &#x27;day&#x27;])])),\n",
       "                                       (&#x27;regressor&#x27;, Ridge())]),\n",
       "             param_grid={&#x27;regressor__alpha&#x27;: [0.01, 0.1, 1, 10]},\n",
       "             scoring=&#x27;neg_root_mean_squared_error&#x27;)</pre></div></div></div><div class=\"sk-parallel\"><div class=\"sk-parallel-item\"><div class=\"sk-item\"><div class=\"sk-label-container\"><div class=\"sk-label sk-toggleable\"><input class=\"sk-toggleable__control sk-hidden--visually\" id=\"sk-estimator-id-2\" type=\"checkbox\" ><label for=\"sk-estimator-id-2\" class=\"sk-toggleable__label sk-toggleable__label-arrow\">estimator: Pipeline</label><div class=\"sk-toggleable__content\"><pre>Pipeline(steps=[(&#x27;preprocessing&#x27;,\n",
       "                 ColumnTransformer(transformers=[(&#x27;num&#x27;, StandardScaler(),\n",
       "                                                  [&#x27;coord_x&#x27;, &#x27;coord_y&#x27;, &#x27;ffmc&#x27;,\n",
       "                                                   &#x27;dmc&#x27;, &#x27;dc&#x27;, &#x27;isi&#x27;, &#x27;temp&#x27;,\n",
       "                                                   &#x27;rh&#x27;, &#x27;wind&#x27;, &#x27;rain&#x27;]),\n",
       "                                                 (&#x27;cat&#x27;,\n",
       "                                                  OneHotEncoder(handle_unknown=&#x27;ignore&#x27;),\n",
       "                                                  [&#x27;month&#x27;, &#x27;day&#x27;])])),\n",
       "                (&#x27;regressor&#x27;, Ridge())])</pre></div></div></div><div class=\"sk-serial\"><div class=\"sk-item\"><div class=\"sk-serial\"><div class=\"sk-item sk-dashed-wrapped\"><div class=\"sk-label-container\"><div class=\"sk-label sk-toggleable\"><input class=\"sk-toggleable__control sk-hidden--visually\" id=\"sk-estimator-id-3\" type=\"checkbox\" ><label for=\"sk-estimator-id-3\" class=\"sk-toggleable__label sk-toggleable__label-arrow\">preprocessing: ColumnTransformer</label><div class=\"sk-toggleable__content\"><pre>ColumnTransformer(transformers=[(&#x27;num&#x27;, StandardScaler(),\n",
       "                                 [&#x27;coord_x&#x27;, &#x27;coord_y&#x27;, &#x27;ffmc&#x27;, &#x27;dmc&#x27;, &#x27;dc&#x27;,\n",
       "                                  &#x27;isi&#x27;, &#x27;temp&#x27;, &#x27;rh&#x27;, &#x27;wind&#x27;, &#x27;rain&#x27;]),\n",
       "                                (&#x27;cat&#x27;, OneHotEncoder(handle_unknown=&#x27;ignore&#x27;),\n",
       "                                 [&#x27;month&#x27;, &#x27;day&#x27;])])</pre></div></div></div><div class=\"sk-parallel\"><div class=\"sk-parallel-item\"><div class=\"sk-item\"><div class=\"sk-label-container\"><div class=\"sk-label sk-toggleable\"><input class=\"sk-toggleable__control sk-hidden--visually\" id=\"sk-estimator-id-4\" type=\"checkbox\" ><label for=\"sk-estimator-id-4\" class=\"sk-toggleable__label sk-toggleable__label-arrow\">num</label><div class=\"sk-toggleable__content\"><pre>[&#x27;coord_x&#x27;, &#x27;coord_y&#x27;, &#x27;ffmc&#x27;, &#x27;dmc&#x27;, &#x27;dc&#x27;, &#x27;isi&#x27;, &#x27;temp&#x27;, &#x27;rh&#x27;, &#x27;wind&#x27;, &#x27;rain&#x27;]</pre></div></div></div><div class=\"sk-serial\"><div class=\"sk-item\"><div class=\"sk-estimator sk-toggleable\"><input class=\"sk-toggleable__control sk-hidden--visually\" id=\"sk-estimator-id-5\" type=\"checkbox\" ><label for=\"sk-estimator-id-5\" class=\"sk-toggleable__label sk-toggleable__label-arrow\">StandardScaler</label><div class=\"sk-toggleable__content\"><pre>StandardScaler()</pre></div></div></div></div></div></div><div class=\"sk-parallel-item\"><div class=\"sk-item\"><div class=\"sk-label-container\"><div class=\"sk-label sk-toggleable\"><input class=\"sk-toggleable__control sk-hidden--visually\" id=\"sk-estimator-id-6\" type=\"checkbox\" ><label for=\"sk-estimator-id-6\" class=\"sk-toggleable__label sk-toggleable__label-arrow\">cat</label><div class=\"sk-toggleable__content\"><pre>[&#x27;month&#x27;, &#x27;day&#x27;]</pre></div></div></div><div class=\"sk-serial\"><div class=\"sk-item\"><div class=\"sk-estimator sk-toggleable\"><input class=\"sk-toggleable__control sk-hidden--visually\" id=\"sk-estimator-id-7\" type=\"checkbox\" ><label for=\"sk-estimator-id-7\" class=\"sk-toggleable__label sk-toggleable__label-arrow\">OneHotEncoder</label><div class=\"sk-toggleable__content\"><pre>OneHotEncoder(handle_unknown=&#x27;ignore&#x27;)</pre></div></div></div></div></div></div></div></div><div class=\"sk-item\"><div class=\"sk-estimator sk-toggleable\"><input class=\"sk-toggleable__control sk-hidden--visually\" id=\"sk-estimator-id-8\" type=\"checkbox\" ><label for=\"sk-estimator-id-8\" class=\"sk-toggleable__label sk-toggleable__label-arrow\">Ridge</label><div class=\"sk-toggleable__content\"><pre>Ridge()</pre></div></div></div></div></div></div></div></div></div></div></div></div>"
      ],
      "text/plain": [
       "GridSearchCV(cv=5,\n",
       "             estimator=Pipeline(steps=[('preprocessing',\n",
       "                                        ColumnTransformer(transformers=[('num',\n",
       "                                                                         StandardScaler(),\n",
       "                                                                         ['coord_x',\n",
       "                                                                          'coord_y',\n",
       "                                                                          'ffmc',\n",
       "                                                                          'dmc',\n",
       "                                                                          'dc',\n",
       "                                                                          'isi',\n",
       "                                                                          'temp',\n",
       "                                                                          'rh',\n",
       "                                                                          'wind',\n",
       "                                                                          'rain']),\n",
       "                                                                        ('cat',\n",
       "                                                                         OneHotEncoder(handle_unknown='ignore'),\n",
       "                                                                         ['month',\n",
       "                                                                          'day'])])),\n",
       "                                       ('regressor', Ridge())]),\n",
       "             param_grid={'regressor__alpha': [0.01, 0.1, 1, 10]},\n",
       "             scoring='neg_root_mean_squared_error')"
      ]
     },
     "execution_count": 12,
     "metadata": {},
     "output_type": "execute_result"
    }
   ],
   "source": [
    "# Grid search for each pipeline\n",
    "param_grid_a = {'regressor__alpha': [0.01, 0.1, 1, 10]}\n",
    "gs_a = GridSearchCV(pipe_a, param_grid_a, cv=5, scoring='neg_root_mean_squared_error')\n",
    "gs_a.fit(X_train, y_train)"
   ]
  },
  {
   "cell_type": "code",
   "execution_count": 13,
   "metadata": {},
   "outputs": [
    {
     "data": {
      "text/html": [
       "<style>#sk-container-id-2 {color: black;background-color: white;}#sk-container-id-2 pre{padding: 0;}#sk-container-id-2 div.sk-toggleable {background-color: white;}#sk-container-id-2 label.sk-toggleable__label {cursor: pointer;display: block;width: 100%;margin-bottom: 0;padding: 0.3em;box-sizing: border-box;text-align: center;}#sk-container-id-2 label.sk-toggleable__label-arrow:before {content: \"▸\";float: left;margin-right: 0.25em;color: #696969;}#sk-container-id-2 label.sk-toggleable__label-arrow:hover:before {color: black;}#sk-container-id-2 div.sk-estimator:hover label.sk-toggleable__label-arrow:before {color: black;}#sk-container-id-2 div.sk-toggleable__content {max-height: 0;max-width: 0;overflow: hidden;text-align: left;background-color: #f0f8ff;}#sk-container-id-2 div.sk-toggleable__content pre {margin: 0.2em;color: black;border-radius: 0.25em;background-color: #f0f8ff;}#sk-container-id-2 input.sk-toggleable__control:checked~div.sk-toggleable__content {max-height: 200px;max-width: 100%;overflow: auto;}#sk-container-id-2 input.sk-toggleable__control:checked~label.sk-toggleable__label-arrow:before {content: \"▾\";}#sk-container-id-2 div.sk-estimator input.sk-toggleable__control:checked~label.sk-toggleable__label {background-color: #d4ebff;}#sk-container-id-2 div.sk-label input.sk-toggleable__control:checked~label.sk-toggleable__label {background-color: #d4ebff;}#sk-container-id-2 input.sk-hidden--visually {border: 0;clip: rect(1px 1px 1px 1px);clip: rect(1px, 1px, 1px, 1px);height: 1px;margin: -1px;overflow: hidden;padding: 0;position: absolute;width: 1px;}#sk-container-id-2 div.sk-estimator {font-family: monospace;background-color: #f0f8ff;border: 1px dotted black;border-radius: 0.25em;box-sizing: border-box;margin-bottom: 0.5em;}#sk-container-id-2 div.sk-estimator:hover {background-color: #d4ebff;}#sk-container-id-2 div.sk-parallel-item::after {content: \"\";width: 100%;border-bottom: 1px solid gray;flex-grow: 1;}#sk-container-id-2 div.sk-label:hover label.sk-toggleable__label {background-color: #d4ebff;}#sk-container-id-2 div.sk-serial::before {content: \"\";position: absolute;border-left: 1px solid gray;box-sizing: border-box;top: 0;bottom: 0;left: 50%;z-index: 0;}#sk-container-id-2 div.sk-serial {display: flex;flex-direction: column;align-items: center;background-color: white;padding-right: 0.2em;padding-left: 0.2em;position: relative;}#sk-container-id-2 div.sk-item {position: relative;z-index: 1;}#sk-container-id-2 div.sk-parallel {display: flex;align-items: stretch;justify-content: center;background-color: white;position: relative;}#sk-container-id-2 div.sk-item::before, #sk-container-id-2 div.sk-parallel-item::before {content: \"\";position: absolute;border-left: 1px solid gray;box-sizing: border-box;top: 0;bottom: 0;left: 50%;z-index: -1;}#sk-container-id-2 div.sk-parallel-item {display: flex;flex-direction: column;z-index: 1;position: relative;background-color: white;}#sk-container-id-2 div.sk-parallel-item:first-child::after {align-self: flex-end;width: 50%;}#sk-container-id-2 div.sk-parallel-item:last-child::after {align-self: flex-start;width: 50%;}#sk-container-id-2 div.sk-parallel-item:only-child::after {width: 0;}#sk-container-id-2 div.sk-dashed-wrapped {border: 1px dashed gray;margin: 0 0.4em 0.5em 0.4em;box-sizing: border-box;padding-bottom: 0.4em;background-color: white;}#sk-container-id-2 div.sk-label label {font-family: monospace;font-weight: bold;display: inline-block;line-height: 1.2em;}#sk-container-id-2 div.sk-label-container {text-align: center;}#sk-container-id-2 div.sk-container {/* jupyter's `normalize.less` sets `[hidden] { display: none; }` but bootstrap.min.css set `[hidden] { display: none !important; }` so we also need the `!important` here to be able to override the default hidden behavior on the sphinx rendered scikit-learn.org. See: https://github.com/scikit-learn/scikit-learn/issues/21755 */display: inline-block !important;position: relative;}#sk-container-id-2 div.sk-text-repr-fallback {display: none;}</style><div id=\"sk-container-id-2\" class=\"sk-top-container\"><div class=\"sk-text-repr-fallback\"><pre>GridSearchCV(cv=5,\n",
       "             estimator=Pipeline(steps=[(&#x27;preprocessing&#x27;,\n",
       "                                        ColumnTransformer(transformers=[(&#x27;num&#x27;,\n",
       "                                                                         Pipeline(steps=[(&#x27;log&#x27;,\n",
       "                                                                                          ColumnTransformer(transformers=[(&#x27;log&#x27;,\n",
       "                                                                                                                           FunctionTransformer(func=&lt;function log1p_transform at 0x30cdb0550&gt;),\n",
       "                                                                                                                           [&#x27;dmc&#x27;,\n",
       "                                                                                                                            &#x27;dc&#x27;]),\n",
       "                                                                                                                          (&#x27;passthrough&#x27;,\n",
       "                                                                                                                           &#x27;passthrough&#x27;,\n",
       "                                                                                                                           [&#x27;coord_x&#x27;,\n",
       "                                                                                                                            &#x27;coord_y&#x27;,\n",
       "                                                                                                                            &#x27;ffmc&#x27;,\n",
       "                                                                                                                            &#x27;isi&#x27;,\n",
       "                                                                                                                            &#x27;temp&#x27;,\n",
       "                                                                                                                            &#x27;rh&#x27;,\n",
       "                                                                                                                            &#x27;wind&#x27;,\n",
       "                                                                                                                            &#x27;rain&#x27;])])),\n",
       "                                                                                         (&#x27;scaler&#x27;,\n",
       "                                                                                          StandardScaler())]),\n",
       "                                                                         [&#x27;coord_x&#x27;,\n",
       "                                                                          &#x27;coord_y&#x27;,\n",
       "                                                                          &#x27;ffmc&#x27;,\n",
       "                                                                          &#x27;dmc&#x27;,\n",
       "                                                                          &#x27;dc&#x27;,\n",
       "                                                                          &#x27;isi&#x27;,\n",
       "                                                                          &#x27;temp&#x27;,\n",
       "                                                                          &#x27;rh&#x27;,\n",
       "                                                                          &#x27;wind&#x27;,\n",
       "                                                                          &#x27;rain&#x27;]),\n",
       "                                                                        (&#x27;cat&#x27;,\n",
       "                                                                         OneHotEncoder(handle_unknown=&#x27;ignore&#x27;),\n",
       "                                                                         [&#x27;month&#x27;,\n",
       "                                                                          &#x27;day&#x27;])])),\n",
       "                                       (&#x27;regressor&#x27;, Ridge())]),\n",
       "             param_grid={&#x27;regressor__alpha&#x27;: [0.01, 0.1, 1, 10]},\n",
       "             scoring=&#x27;neg_root_mean_squared_error&#x27;)</pre><b>In a Jupyter environment, please rerun this cell to show the HTML representation or trust the notebook. <br />On GitHub, the HTML representation is unable to render, please try loading this page with nbviewer.org.</b></div><div class=\"sk-container\" hidden><div class=\"sk-item sk-dashed-wrapped\"><div class=\"sk-label-container\"><div class=\"sk-label sk-toggleable\"><input class=\"sk-toggleable__control sk-hidden--visually\" id=\"sk-estimator-id-9\" type=\"checkbox\" ><label for=\"sk-estimator-id-9\" class=\"sk-toggleable__label sk-toggleable__label-arrow\">GridSearchCV</label><div class=\"sk-toggleable__content\"><pre>GridSearchCV(cv=5,\n",
       "             estimator=Pipeline(steps=[(&#x27;preprocessing&#x27;,\n",
       "                                        ColumnTransformer(transformers=[(&#x27;num&#x27;,\n",
       "                                                                         Pipeline(steps=[(&#x27;log&#x27;,\n",
       "                                                                                          ColumnTransformer(transformers=[(&#x27;log&#x27;,\n",
       "                                                                                                                           FunctionTransformer(func=&lt;function log1p_transform at 0x30cdb0550&gt;),\n",
       "                                                                                                                           [&#x27;dmc&#x27;,\n",
       "                                                                                                                            &#x27;dc&#x27;]),\n",
       "                                                                                                                          (&#x27;passthrough&#x27;,\n",
       "                                                                                                                           &#x27;passthrough&#x27;,\n",
       "                                                                                                                           [&#x27;coord_x&#x27;,\n",
       "                                                                                                                            &#x27;coord_y&#x27;,\n",
       "                                                                                                                            &#x27;ffmc&#x27;,\n",
       "                                                                                                                            &#x27;isi&#x27;,\n",
       "                                                                                                                            &#x27;temp&#x27;,\n",
       "                                                                                                                            &#x27;rh&#x27;,\n",
       "                                                                                                                            &#x27;wind&#x27;,\n",
       "                                                                                                                            &#x27;rain&#x27;])])),\n",
       "                                                                                         (&#x27;scaler&#x27;,\n",
       "                                                                                          StandardScaler())]),\n",
       "                                                                         [&#x27;coord_x&#x27;,\n",
       "                                                                          &#x27;coord_y&#x27;,\n",
       "                                                                          &#x27;ffmc&#x27;,\n",
       "                                                                          &#x27;dmc&#x27;,\n",
       "                                                                          &#x27;dc&#x27;,\n",
       "                                                                          &#x27;isi&#x27;,\n",
       "                                                                          &#x27;temp&#x27;,\n",
       "                                                                          &#x27;rh&#x27;,\n",
       "                                                                          &#x27;wind&#x27;,\n",
       "                                                                          &#x27;rain&#x27;]),\n",
       "                                                                        (&#x27;cat&#x27;,\n",
       "                                                                         OneHotEncoder(handle_unknown=&#x27;ignore&#x27;),\n",
       "                                                                         [&#x27;month&#x27;,\n",
       "                                                                          &#x27;day&#x27;])])),\n",
       "                                       (&#x27;regressor&#x27;, Ridge())]),\n",
       "             param_grid={&#x27;regressor__alpha&#x27;: [0.01, 0.1, 1, 10]},\n",
       "             scoring=&#x27;neg_root_mean_squared_error&#x27;)</pre></div></div></div><div class=\"sk-parallel\"><div class=\"sk-parallel-item\"><div class=\"sk-item\"><div class=\"sk-label-container\"><div class=\"sk-label sk-toggleable\"><input class=\"sk-toggleable__control sk-hidden--visually\" id=\"sk-estimator-id-10\" type=\"checkbox\" ><label for=\"sk-estimator-id-10\" class=\"sk-toggleable__label sk-toggleable__label-arrow\">estimator: Pipeline</label><div class=\"sk-toggleable__content\"><pre>Pipeline(steps=[(&#x27;preprocessing&#x27;,\n",
       "                 ColumnTransformer(transformers=[(&#x27;num&#x27;,\n",
       "                                                  Pipeline(steps=[(&#x27;log&#x27;,\n",
       "                                                                   ColumnTransformer(transformers=[(&#x27;log&#x27;,\n",
       "                                                                                                    FunctionTransformer(func=&lt;function log1p_transform at 0x30cdb0550&gt;),\n",
       "                                                                                                    [&#x27;dmc&#x27;,\n",
       "                                                                                                     &#x27;dc&#x27;]),\n",
       "                                                                                                   (&#x27;passthrough&#x27;,\n",
       "                                                                                                    &#x27;passthrough&#x27;,\n",
       "                                                                                                    [&#x27;coord_x&#x27;,\n",
       "                                                                                                     &#x27;coord_y&#x27;,\n",
       "                                                                                                     &#x27;ffmc&#x27;,\n",
       "                                                                                                     &#x27;isi&#x27;,\n",
       "                                                                                                     &#x27;temp&#x27;,\n",
       "                                                                                                     &#x27;rh&#x27;,\n",
       "                                                                                                     &#x27;wind&#x27;,\n",
       "                                                                                                     &#x27;rain&#x27;])])),\n",
       "                                                                  (&#x27;scaler&#x27;,\n",
       "                                                                   StandardScaler())]),\n",
       "                                                  [&#x27;coord_x&#x27;, &#x27;coord_y&#x27;, &#x27;ffmc&#x27;,\n",
       "                                                   &#x27;dmc&#x27;, &#x27;dc&#x27;, &#x27;isi&#x27;, &#x27;temp&#x27;,\n",
       "                                                   &#x27;rh&#x27;, &#x27;wind&#x27;, &#x27;rain&#x27;]),\n",
       "                                                 (&#x27;cat&#x27;,\n",
       "                                                  OneHotEncoder(handle_unknown=&#x27;ignore&#x27;),\n",
       "                                                  [&#x27;month&#x27;, &#x27;day&#x27;])])),\n",
       "                (&#x27;regressor&#x27;, Ridge())])</pre></div></div></div><div class=\"sk-serial\"><div class=\"sk-item\"><div class=\"sk-serial\"><div class=\"sk-item sk-dashed-wrapped\"><div class=\"sk-label-container\"><div class=\"sk-label sk-toggleable\"><input class=\"sk-toggleable__control sk-hidden--visually\" id=\"sk-estimator-id-11\" type=\"checkbox\" ><label for=\"sk-estimator-id-11\" class=\"sk-toggleable__label sk-toggleable__label-arrow\">preprocessing: ColumnTransformer</label><div class=\"sk-toggleable__content\"><pre>ColumnTransformer(transformers=[(&#x27;num&#x27;,\n",
       "                                 Pipeline(steps=[(&#x27;log&#x27;,\n",
       "                                                  ColumnTransformer(transformers=[(&#x27;log&#x27;,\n",
       "                                                                                   FunctionTransformer(func=&lt;function log1p_transform at 0x30cdb0550&gt;),\n",
       "                                                                                   [&#x27;dmc&#x27;,\n",
       "                                                                                    &#x27;dc&#x27;]),\n",
       "                                                                                  (&#x27;passthrough&#x27;,\n",
       "                                                                                   &#x27;passthrough&#x27;,\n",
       "                                                                                   [&#x27;coord_x&#x27;,\n",
       "                                                                                    &#x27;coord_y&#x27;,\n",
       "                                                                                    &#x27;ffmc&#x27;,\n",
       "                                                                                    &#x27;isi&#x27;,\n",
       "                                                                                    &#x27;temp&#x27;,\n",
       "                                                                                    &#x27;rh&#x27;,\n",
       "                                                                                    &#x27;wind&#x27;,\n",
       "                                                                                    &#x27;rain&#x27;])])),\n",
       "                                                 (&#x27;scaler&#x27;, StandardScaler())]),\n",
       "                                 [&#x27;coord_x&#x27;, &#x27;coord_y&#x27;, &#x27;ffmc&#x27;, &#x27;dmc&#x27;, &#x27;dc&#x27;,\n",
       "                                  &#x27;isi&#x27;, &#x27;temp&#x27;, &#x27;rh&#x27;, &#x27;wind&#x27;, &#x27;rain&#x27;]),\n",
       "                                (&#x27;cat&#x27;, OneHotEncoder(handle_unknown=&#x27;ignore&#x27;),\n",
       "                                 [&#x27;month&#x27;, &#x27;day&#x27;])])</pre></div></div></div><div class=\"sk-parallel\"><div class=\"sk-parallel-item\"><div class=\"sk-item\"><div class=\"sk-label-container\"><div class=\"sk-label sk-toggleable\"><input class=\"sk-toggleable__control sk-hidden--visually\" id=\"sk-estimator-id-12\" type=\"checkbox\" ><label for=\"sk-estimator-id-12\" class=\"sk-toggleable__label sk-toggleable__label-arrow\">num</label><div class=\"sk-toggleable__content\"><pre>[&#x27;coord_x&#x27;, &#x27;coord_y&#x27;, &#x27;ffmc&#x27;, &#x27;dmc&#x27;, &#x27;dc&#x27;, &#x27;isi&#x27;, &#x27;temp&#x27;, &#x27;rh&#x27;, &#x27;wind&#x27;, &#x27;rain&#x27;]</pre></div></div></div><div class=\"sk-serial\"><div class=\"sk-item\"><div class=\"sk-serial\"><div class=\"sk-item sk-dashed-wrapped\"><div class=\"sk-label-container\"><div class=\"sk-label sk-toggleable\"><input class=\"sk-toggleable__control sk-hidden--visually\" id=\"sk-estimator-id-13\" type=\"checkbox\" ><label for=\"sk-estimator-id-13\" class=\"sk-toggleable__label sk-toggleable__label-arrow\">log: ColumnTransformer</label><div class=\"sk-toggleable__content\"><pre>ColumnTransformer(transformers=[(&#x27;log&#x27;,\n",
       "                                 FunctionTransformer(func=&lt;function log1p_transform at 0x30cdb0550&gt;),\n",
       "                                 [&#x27;dmc&#x27;, &#x27;dc&#x27;]),\n",
       "                                (&#x27;passthrough&#x27;, &#x27;passthrough&#x27;,\n",
       "                                 [&#x27;coord_x&#x27;, &#x27;coord_y&#x27;, &#x27;ffmc&#x27;, &#x27;isi&#x27;, &#x27;temp&#x27;,\n",
       "                                  &#x27;rh&#x27;, &#x27;wind&#x27;, &#x27;rain&#x27;])])</pre></div></div></div><div class=\"sk-parallel\"><div class=\"sk-parallel-item\"><div class=\"sk-item\"><div class=\"sk-label-container\"><div class=\"sk-label sk-toggleable\"><input class=\"sk-toggleable__control sk-hidden--visually\" id=\"sk-estimator-id-14\" type=\"checkbox\" ><label for=\"sk-estimator-id-14\" class=\"sk-toggleable__label sk-toggleable__label-arrow\">log</label><div class=\"sk-toggleable__content\"><pre>[&#x27;dmc&#x27;, &#x27;dc&#x27;]</pre></div></div></div><div class=\"sk-serial\"><div class=\"sk-item\"><div class=\"sk-estimator sk-toggleable\"><input class=\"sk-toggleable__control sk-hidden--visually\" id=\"sk-estimator-id-15\" type=\"checkbox\" ><label for=\"sk-estimator-id-15\" class=\"sk-toggleable__label sk-toggleable__label-arrow\">FunctionTransformer</label><div class=\"sk-toggleable__content\"><pre>FunctionTransformer(func=&lt;function log1p_transform at 0x30cdb0550&gt;)</pre></div></div></div></div></div></div><div class=\"sk-parallel-item\"><div class=\"sk-item\"><div class=\"sk-label-container\"><div class=\"sk-label sk-toggleable\"><input class=\"sk-toggleable__control sk-hidden--visually\" id=\"sk-estimator-id-16\" type=\"checkbox\" ><label for=\"sk-estimator-id-16\" class=\"sk-toggleable__label sk-toggleable__label-arrow\">passthrough</label><div class=\"sk-toggleable__content\"><pre>[&#x27;coord_x&#x27;, &#x27;coord_y&#x27;, &#x27;ffmc&#x27;, &#x27;isi&#x27;, &#x27;temp&#x27;, &#x27;rh&#x27;, &#x27;wind&#x27;, &#x27;rain&#x27;]</pre></div></div></div><div class=\"sk-serial\"><div class=\"sk-item\"><div class=\"sk-estimator sk-toggleable\"><input class=\"sk-toggleable__control sk-hidden--visually\" id=\"sk-estimator-id-17\" type=\"checkbox\" ><label for=\"sk-estimator-id-17\" class=\"sk-toggleable__label sk-toggleable__label-arrow\">passthrough</label><div class=\"sk-toggleable__content\"><pre>passthrough</pre></div></div></div></div></div></div></div></div><div class=\"sk-item\"><div class=\"sk-estimator sk-toggleable\"><input class=\"sk-toggleable__control sk-hidden--visually\" id=\"sk-estimator-id-18\" type=\"checkbox\" ><label for=\"sk-estimator-id-18\" class=\"sk-toggleable__label sk-toggleable__label-arrow\">StandardScaler</label><div class=\"sk-toggleable__content\"><pre>StandardScaler()</pre></div></div></div></div></div></div></div></div><div class=\"sk-parallel-item\"><div class=\"sk-item\"><div class=\"sk-label-container\"><div class=\"sk-label sk-toggleable\"><input class=\"sk-toggleable__control sk-hidden--visually\" id=\"sk-estimator-id-19\" type=\"checkbox\" ><label for=\"sk-estimator-id-19\" class=\"sk-toggleable__label sk-toggleable__label-arrow\">cat</label><div class=\"sk-toggleable__content\"><pre>[&#x27;month&#x27;, &#x27;day&#x27;]</pre></div></div></div><div class=\"sk-serial\"><div class=\"sk-item\"><div class=\"sk-estimator sk-toggleable\"><input class=\"sk-toggleable__control sk-hidden--visually\" id=\"sk-estimator-id-20\" type=\"checkbox\" ><label for=\"sk-estimator-id-20\" class=\"sk-toggleable__label sk-toggleable__label-arrow\">OneHotEncoder</label><div class=\"sk-toggleable__content\"><pre>OneHotEncoder(handle_unknown=&#x27;ignore&#x27;)</pre></div></div></div></div></div></div></div></div><div class=\"sk-item\"><div class=\"sk-estimator sk-toggleable\"><input class=\"sk-toggleable__control sk-hidden--visually\" id=\"sk-estimator-id-21\" type=\"checkbox\" ><label for=\"sk-estimator-id-21\" class=\"sk-toggleable__label sk-toggleable__label-arrow\">Ridge</label><div class=\"sk-toggleable__content\"><pre>Ridge()</pre></div></div></div></div></div></div></div></div></div></div></div></div>"
      ],
      "text/plain": [
       "GridSearchCV(cv=5,\n",
       "             estimator=Pipeline(steps=[('preprocessing',\n",
       "                                        ColumnTransformer(transformers=[('num',\n",
       "                                                                         Pipeline(steps=[('log',\n",
       "                                                                                          ColumnTransformer(transformers=[('log',\n",
       "                                                                                                                           FunctionTransformer(func=<function log1p_transform at 0x30cdb0550>),\n",
       "                                                                                                                           ['dmc',\n",
       "                                                                                                                            'dc']),\n",
       "                                                                                                                          ('passthrough',\n",
       "                                                                                                                           'passthrough',\n",
       "                                                                                                                           ['coord_x',\n",
       "                                                                                                                            'coord_y',\n",
       "                                                                                                                            'ffmc',\n",
       "                                                                                                                            'isi',\n",
       "                                                                                                                            'temp',\n",
       "                                                                                                                            'rh',\n",
       "                                                                                                                            'wind',\n",
       "                                                                                                                            'rain'])])),\n",
       "                                                                                         ('scaler',\n",
       "                                                                                          StandardScaler())]),\n",
       "                                                                         ['coord_x',\n",
       "                                                                          'coord_y',\n",
       "                                                                          'ffmc',\n",
       "                                                                          'dmc',\n",
       "                                                                          'dc',\n",
       "                                                                          'isi',\n",
       "                                                                          'temp',\n",
       "                                                                          'rh',\n",
       "                                                                          'wind',\n",
       "                                                                          'rain']),\n",
       "                                                                        ('cat',\n",
       "                                                                         OneHotEncoder(handle_unknown='ignore'),\n",
       "                                                                         ['month',\n",
       "                                                                          'day'])])),\n",
       "                                       ('regressor', Ridge())]),\n",
       "             param_grid={'regressor__alpha': [0.01, 0.1, 1, 10]},\n",
       "             scoring='neg_root_mean_squared_error')"
      ]
     },
     "execution_count": 13,
     "metadata": {},
     "output_type": "execute_result"
    }
   ],
   "source": [
    "param_grid_b = {'regressor__alpha': [0.01, 0.1, 1, 10]}\n",
    "gs_b = GridSearchCV(pipe_b, param_grid_b, cv=5, scoring='neg_root_mean_squared_error')\n",
    "gs_b.fit(X_train, y_train)"
   ]
  },
  {
   "cell_type": "code",
   "execution_count": 14,
   "metadata": {},
   "outputs": [
    {
     "data": {
      "text/html": [
       "<style>#sk-container-id-3 {color: black;background-color: white;}#sk-container-id-3 pre{padding: 0;}#sk-container-id-3 div.sk-toggleable {background-color: white;}#sk-container-id-3 label.sk-toggleable__label {cursor: pointer;display: block;width: 100%;margin-bottom: 0;padding: 0.3em;box-sizing: border-box;text-align: center;}#sk-container-id-3 label.sk-toggleable__label-arrow:before {content: \"▸\";float: left;margin-right: 0.25em;color: #696969;}#sk-container-id-3 label.sk-toggleable__label-arrow:hover:before {color: black;}#sk-container-id-3 div.sk-estimator:hover label.sk-toggleable__label-arrow:before {color: black;}#sk-container-id-3 div.sk-toggleable__content {max-height: 0;max-width: 0;overflow: hidden;text-align: left;background-color: #f0f8ff;}#sk-container-id-3 div.sk-toggleable__content pre {margin: 0.2em;color: black;border-radius: 0.25em;background-color: #f0f8ff;}#sk-container-id-3 input.sk-toggleable__control:checked~div.sk-toggleable__content {max-height: 200px;max-width: 100%;overflow: auto;}#sk-container-id-3 input.sk-toggleable__control:checked~label.sk-toggleable__label-arrow:before {content: \"▾\";}#sk-container-id-3 div.sk-estimator input.sk-toggleable__control:checked~label.sk-toggleable__label {background-color: #d4ebff;}#sk-container-id-3 div.sk-label input.sk-toggleable__control:checked~label.sk-toggleable__label {background-color: #d4ebff;}#sk-container-id-3 input.sk-hidden--visually {border: 0;clip: rect(1px 1px 1px 1px);clip: rect(1px, 1px, 1px, 1px);height: 1px;margin: -1px;overflow: hidden;padding: 0;position: absolute;width: 1px;}#sk-container-id-3 div.sk-estimator {font-family: monospace;background-color: #f0f8ff;border: 1px dotted black;border-radius: 0.25em;box-sizing: border-box;margin-bottom: 0.5em;}#sk-container-id-3 div.sk-estimator:hover {background-color: #d4ebff;}#sk-container-id-3 div.sk-parallel-item::after {content: \"\";width: 100%;border-bottom: 1px solid gray;flex-grow: 1;}#sk-container-id-3 div.sk-label:hover label.sk-toggleable__label {background-color: #d4ebff;}#sk-container-id-3 div.sk-serial::before {content: \"\";position: absolute;border-left: 1px solid gray;box-sizing: border-box;top: 0;bottom: 0;left: 50%;z-index: 0;}#sk-container-id-3 div.sk-serial {display: flex;flex-direction: column;align-items: center;background-color: white;padding-right: 0.2em;padding-left: 0.2em;position: relative;}#sk-container-id-3 div.sk-item {position: relative;z-index: 1;}#sk-container-id-3 div.sk-parallel {display: flex;align-items: stretch;justify-content: center;background-color: white;position: relative;}#sk-container-id-3 div.sk-item::before, #sk-container-id-3 div.sk-parallel-item::before {content: \"\";position: absolute;border-left: 1px solid gray;box-sizing: border-box;top: 0;bottom: 0;left: 50%;z-index: -1;}#sk-container-id-3 div.sk-parallel-item {display: flex;flex-direction: column;z-index: 1;position: relative;background-color: white;}#sk-container-id-3 div.sk-parallel-item:first-child::after {align-self: flex-end;width: 50%;}#sk-container-id-3 div.sk-parallel-item:last-child::after {align-self: flex-start;width: 50%;}#sk-container-id-3 div.sk-parallel-item:only-child::after {width: 0;}#sk-container-id-3 div.sk-dashed-wrapped {border: 1px dashed gray;margin: 0 0.4em 0.5em 0.4em;box-sizing: border-box;padding-bottom: 0.4em;background-color: white;}#sk-container-id-3 div.sk-label label {font-family: monospace;font-weight: bold;display: inline-block;line-height: 1.2em;}#sk-container-id-3 div.sk-label-container {text-align: center;}#sk-container-id-3 div.sk-container {/* jupyter's `normalize.less` sets `[hidden] { display: none; }` but bootstrap.min.css set `[hidden] { display: none !important; }` so we also need the `!important` here to be able to override the default hidden behavior on the sphinx rendered scikit-learn.org. See: https://github.com/scikit-learn/scikit-learn/issues/21755 */display: inline-block !important;position: relative;}#sk-container-id-3 div.sk-text-repr-fallback {display: none;}</style><div id=\"sk-container-id-3\" class=\"sk-top-container\"><div class=\"sk-text-repr-fallback\"><pre>GridSearchCV(cv=5,\n",
       "             estimator=Pipeline(steps=[(&#x27;preprocessing&#x27;,\n",
       "                                        ColumnTransformer(transformers=[(&#x27;num&#x27;,\n",
       "                                                                         StandardScaler(),\n",
       "                                                                         [&#x27;coord_x&#x27;,\n",
       "                                                                          &#x27;coord_y&#x27;,\n",
       "                                                                          &#x27;ffmc&#x27;,\n",
       "                                                                          &#x27;dmc&#x27;,\n",
       "                                                                          &#x27;dc&#x27;,\n",
       "                                                                          &#x27;isi&#x27;,\n",
       "                                                                          &#x27;temp&#x27;,\n",
       "                                                                          &#x27;rh&#x27;,\n",
       "                                                                          &#x27;wind&#x27;,\n",
       "                                                                          &#x27;rain&#x27;]),\n",
       "                                                                        (&#x27;cat&#x27;,\n",
       "                                                                         OneHotEncoder(handle_unknown=&#x27;ignore&#x27;),\n",
       "                                                                         [&#x27;month&#x27;,\n",
       "                                                                          &#x27;day&#x27;])])),\n",
       "                                       (&#x27;regressor&#x27;, RandomForestRegressor())]),\n",
       "             param_grid={&#x27;regressor__n_estimators&#x27;: [50, 100, 200, 300]},\n",
       "             scoring=&#x27;neg_root_mean_squared_error&#x27;)</pre><b>In a Jupyter environment, please rerun this cell to show the HTML representation or trust the notebook. <br />On GitHub, the HTML representation is unable to render, please try loading this page with nbviewer.org.</b></div><div class=\"sk-container\" hidden><div class=\"sk-item sk-dashed-wrapped\"><div class=\"sk-label-container\"><div class=\"sk-label sk-toggleable\"><input class=\"sk-toggleable__control sk-hidden--visually\" id=\"sk-estimator-id-22\" type=\"checkbox\" ><label for=\"sk-estimator-id-22\" class=\"sk-toggleable__label sk-toggleable__label-arrow\">GridSearchCV</label><div class=\"sk-toggleable__content\"><pre>GridSearchCV(cv=5,\n",
       "             estimator=Pipeline(steps=[(&#x27;preprocessing&#x27;,\n",
       "                                        ColumnTransformer(transformers=[(&#x27;num&#x27;,\n",
       "                                                                         StandardScaler(),\n",
       "                                                                         [&#x27;coord_x&#x27;,\n",
       "                                                                          &#x27;coord_y&#x27;,\n",
       "                                                                          &#x27;ffmc&#x27;,\n",
       "                                                                          &#x27;dmc&#x27;,\n",
       "                                                                          &#x27;dc&#x27;,\n",
       "                                                                          &#x27;isi&#x27;,\n",
       "                                                                          &#x27;temp&#x27;,\n",
       "                                                                          &#x27;rh&#x27;,\n",
       "                                                                          &#x27;wind&#x27;,\n",
       "                                                                          &#x27;rain&#x27;]),\n",
       "                                                                        (&#x27;cat&#x27;,\n",
       "                                                                         OneHotEncoder(handle_unknown=&#x27;ignore&#x27;),\n",
       "                                                                         [&#x27;month&#x27;,\n",
       "                                                                          &#x27;day&#x27;])])),\n",
       "                                       (&#x27;regressor&#x27;, RandomForestRegressor())]),\n",
       "             param_grid={&#x27;regressor__n_estimators&#x27;: [50, 100, 200, 300]},\n",
       "             scoring=&#x27;neg_root_mean_squared_error&#x27;)</pre></div></div></div><div class=\"sk-parallel\"><div class=\"sk-parallel-item\"><div class=\"sk-item\"><div class=\"sk-label-container\"><div class=\"sk-label sk-toggleable\"><input class=\"sk-toggleable__control sk-hidden--visually\" id=\"sk-estimator-id-23\" type=\"checkbox\" ><label for=\"sk-estimator-id-23\" class=\"sk-toggleable__label sk-toggleable__label-arrow\">estimator: Pipeline</label><div class=\"sk-toggleable__content\"><pre>Pipeline(steps=[(&#x27;preprocessing&#x27;,\n",
       "                 ColumnTransformer(transformers=[(&#x27;num&#x27;, StandardScaler(),\n",
       "                                                  [&#x27;coord_x&#x27;, &#x27;coord_y&#x27;, &#x27;ffmc&#x27;,\n",
       "                                                   &#x27;dmc&#x27;, &#x27;dc&#x27;, &#x27;isi&#x27;, &#x27;temp&#x27;,\n",
       "                                                   &#x27;rh&#x27;, &#x27;wind&#x27;, &#x27;rain&#x27;]),\n",
       "                                                 (&#x27;cat&#x27;,\n",
       "                                                  OneHotEncoder(handle_unknown=&#x27;ignore&#x27;),\n",
       "                                                  [&#x27;month&#x27;, &#x27;day&#x27;])])),\n",
       "                (&#x27;regressor&#x27;, RandomForestRegressor())])</pre></div></div></div><div class=\"sk-serial\"><div class=\"sk-item\"><div class=\"sk-serial\"><div class=\"sk-item sk-dashed-wrapped\"><div class=\"sk-label-container\"><div class=\"sk-label sk-toggleable\"><input class=\"sk-toggleable__control sk-hidden--visually\" id=\"sk-estimator-id-24\" type=\"checkbox\" ><label for=\"sk-estimator-id-24\" class=\"sk-toggleable__label sk-toggleable__label-arrow\">preprocessing: ColumnTransformer</label><div class=\"sk-toggleable__content\"><pre>ColumnTransformer(transformers=[(&#x27;num&#x27;, StandardScaler(),\n",
       "                                 [&#x27;coord_x&#x27;, &#x27;coord_y&#x27;, &#x27;ffmc&#x27;, &#x27;dmc&#x27;, &#x27;dc&#x27;,\n",
       "                                  &#x27;isi&#x27;, &#x27;temp&#x27;, &#x27;rh&#x27;, &#x27;wind&#x27;, &#x27;rain&#x27;]),\n",
       "                                (&#x27;cat&#x27;, OneHotEncoder(handle_unknown=&#x27;ignore&#x27;),\n",
       "                                 [&#x27;month&#x27;, &#x27;day&#x27;])])</pre></div></div></div><div class=\"sk-parallel\"><div class=\"sk-parallel-item\"><div class=\"sk-item\"><div class=\"sk-label-container\"><div class=\"sk-label sk-toggleable\"><input class=\"sk-toggleable__control sk-hidden--visually\" id=\"sk-estimator-id-25\" type=\"checkbox\" ><label for=\"sk-estimator-id-25\" class=\"sk-toggleable__label sk-toggleable__label-arrow\">num</label><div class=\"sk-toggleable__content\"><pre>[&#x27;coord_x&#x27;, &#x27;coord_y&#x27;, &#x27;ffmc&#x27;, &#x27;dmc&#x27;, &#x27;dc&#x27;, &#x27;isi&#x27;, &#x27;temp&#x27;, &#x27;rh&#x27;, &#x27;wind&#x27;, &#x27;rain&#x27;]</pre></div></div></div><div class=\"sk-serial\"><div class=\"sk-item\"><div class=\"sk-estimator sk-toggleable\"><input class=\"sk-toggleable__control sk-hidden--visually\" id=\"sk-estimator-id-26\" type=\"checkbox\" ><label for=\"sk-estimator-id-26\" class=\"sk-toggleable__label sk-toggleable__label-arrow\">StandardScaler</label><div class=\"sk-toggleable__content\"><pre>StandardScaler()</pre></div></div></div></div></div></div><div class=\"sk-parallel-item\"><div class=\"sk-item\"><div class=\"sk-label-container\"><div class=\"sk-label sk-toggleable\"><input class=\"sk-toggleable__control sk-hidden--visually\" id=\"sk-estimator-id-27\" type=\"checkbox\" ><label for=\"sk-estimator-id-27\" class=\"sk-toggleable__label sk-toggleable__label-arrow\">cat</label><div class=\"sk-toggleable__content\"><pre>[&#x27;month&#x27;, &#x27;day&#x27;]</pre></div></div></div><div class=\"sk-serial\"><div class=\"sk-item\"><div class=\"sk-estimator sk-toggleable\"><input class=\"sk-toggleable__control sk-hidden--visually\" id=\"sk-estimator-id-28\" type=\"checkbox\" ><label for=\"sk-estimator-id-28\" class=\"sk-toggleable__label sk-toggleable__label-arrow\">OneHotEncoder</label><div class=\"sk-toggleable__content\"><pre>OneHotEncoder(handle_unknown=&#x27;ignore&#x27;)</pre></div></div></div></div></div></div></div></div><div class=\"sk-item\"><div class=\"sk-estimator sk-toggleable\"><input class=\"sk-toggleable__control sk-hidden--visually\" id=\"sk-estimator-id-29\" type=\"checkbox\" ><label for=\"sk-estimator-id-29\" class=\"sk-toggleable__label sk-toggleable__label-arrow\">RandomForestRegressor</label><div class=\"sk-toggleable__content\"><pre>RandomForestRegressor()</pre></div></div></div></div></div></div></div></div></div></div></div></div>"
      ],
      "text/plain": [
       "GridSearchCV(cv=5,\n",
       "             estimator=Pipeline(steps=[('preprocessing',\n",
       "                                        ColumnTransformer(transformers=[('num',\n",
       "                                                                         StandardScaler(),\n",
       "                                                                         ['coord_x',\n",
       "                                                                          'coord_y',\n",
       "                                                                          'ffmc',\n",
       "                                                                          'dmc',\n",
       "                                                                          'dc',\n",
       "                                                                          'isi',\n",
       "                                                                          'temp',\n",
       "                                                                          'rh',\n",
       "                                                                          'wind',\n",
       "                                                                          'rain']),\n",
       "                                                                        ('cat',\n",
       "                                                                         OneHotEncoder(handle_unknown='ignore'),\n",
       "                                                                         ['month',\n",
       "                                                                          'day'])])),\n",
       "                                       ('regressor', RandomForestRegressor())]),\n",
       "             param_grid={'regressor__n_estimators': [50, 100, 200, 300]},\n",
       "             scoring='neg_root_mean_squared_error')"
      ]
     },
     "execution_count": 14,
     "metadata": {},
     "output_type": "execute_result"
    }
   ],
   "source": [
    "param_grid_c = {'regressor__n_estimators': [50, 100, 200, 300]}\n",
    "gs_c = GridSearchCV(pipe_c, param_grid_c, cv=5, scoring='neg_root_mean_squared_error')\n",
    "gs_c.fit(X_train, y_train)"
   ]
  },
  {
   "cell_type": "code",
   "execution_count": 15,
   "metadata": {},
   "outputs": [
    {
     "data": {
      "text/html": [
       "<style>#sk-container-id-4 {color: black;background-color: white;}#sk-container-id-4 pre{padding: 0;}#sk-container-id-4 div.sk-toggleable {background-color: white;}#sk-container-id-4 label.sk-toggleable__label {cursor: pointer;display: block;width: 100%;margin-bottom: 0;padding: 0.3em;box-sizing: border-box;text-align: center;}#sk-container-id-4 label.sk-toggleable__label-arrow:before {content: \"▸\";float: left;margin-right: 0.25em;color: #696969;}#sk-container-id-4 label.sk-toggleable__label-arrow:hover:before {color: black;}#sk-container-id-4 div.sk-estimator:hover label.sk-toggleable__label-arrow:before {color: black;}#sk-container-id-4 div.sk-toggleable__content {max-height: 0;max-width: 0;overflow: hidden;text-align: left;background-color: #f0f8ff;}#sk-container-id-4 div.sk-toggleable__content pre {margin: 0.2em;color: black;border-radius: 0.25em;background-color: #f0f8ff;}#sk-container-id-4 input.sk-toggleable__control:checked~div.sk-toggleable__content {max-height: 200px;max-width: 100%;overflow: auto;}#sk-container-id-4 input.sk-toggleable__control:checked~label.sk-toggleable__label-arrow:before {content: \"▾\";}#sk-container-id-4 div.sk-estimator input.sk-toggleable__control:checked~label.sk-toggleable__label {background-color: #d4ebff;}#sk-container-id-4 div.sk-label input.sk-toggleable__control:checked~label.sk-toggleable__label {background-color: #d4ebff;}#sk-container-id-4 input.sk-hidden--visually {border: 0;clip: rect(1px 1px 1px 1px);clip: rect(1px, 1px, 1px, 1px);height: 1px;margin: -1px;overflow: hidden;padding: 0;position: absolute;width: 1px;}#sk-container-id-4 div.sk-estimator {font-family: monospace;background-color: #f0f8ff;border: 1px dotted black;border-radius: 0.25em;box-sizing: border-box;margin-bottom: 0.5em;}#sk-container-id-4 div.sk-estimator:hover {background-color: #d4ebff;}#sk-container-id-4 div.sk-parallel-item::after {content: \"\";width: 100%;border-bottom: 1px solid gray;flex-grow: 1;}#sk-container-id-4 div.sk-label:hover label.sk-toggleable__label {background-color: #d4ebff;}#sk-container-id-4 div.sk-serial::before {content: \"\";position: absolute;border-left: 1px solid gray;box-sizing: border-box;top: 0;bottom: 0;left: 50%;z-index: 0;}#sk-container-id-4 div.sk-serial {display: flex;flex-direction: column;align-items: center;background-color: white;padding-right: 0.2em;padding-left: 0.2em;position: relative;}#sk-container-id-4 div.sk-item {position: relative;z-index: 1;}#sk-container-id-4 div.sk-parallel {display: flex;align-items: stretch;justify-content: center;background-color: white;position: relative;}#sk-container-id-4 div.sk-item::before, #sk-container-id-4 div.sk-parallel-item::before {content: \"\";position: absolute;border-left: 1px solid gray;box-sizing: border-box;top: 0;bottom: 0;left: 50%;z-index: -1;}#sk-container-id-4 div.sk-parallel-item {display: flex;flex-direction: column;z-index: 1;position: relative;background-color: white;}#sk-container-id-4 div.sk-parallel-item:first-child::after {align-self: flex-end;width: 50%;}#sk-container-id-4 div.sk-parallel-item:last-child::after {align-self: flex-start;width: 50%;}#sk-container-id-4 div.sk-parallel-item:only-child::after {width: 0;}#sk-container-id-4 div.sk-dashed-wrapped {border: 1px dashed gray;margin: 0 0.4em 0.5em 0.4em;box-sizing: border-box;padding-bottom: 0.4em;background-color: white;}#sk-container-id-4 div.sk-label label {font-family: monospace;font-weight: bold;display: inline-block;line-height: 1.2em;}#sk-container-id-4 div.sk-label-container {text-align: center;}#sk-container-id-4 div.sk-container {/* jupyter's `normalize.less` sets `[hidden] { display: none; }` but bootstrap.min.css set `[hidden] { display: none !important; }` so we also need the `!important` here to be able to override the default hidden behavior on the sphinx rendered scikit-learn.org. See: https://github.com/scikit-learn/scikit-learn/issues/21755 */display: inline-block !important;position: relative;}#sk-container-id-4 div.sk-text-repr-fallback {display: none;}</style><div id=\"sk-container-id-4\" class=\"sk-top-container\"><div class=\"sk-text-repr-fallback\"><pre>GridSearchCV(cv=5,\n",
       "             estimator=Pipeline(steps=[(&#x27;preprocessing&#x27;,\n",
       "                                        ColumnTransformer(transformers=[(&#x27;num&#x27;,\n",
       "                                                                         Pipeline(steps=[(&#x27;log&#x27;,\n",
       "                                                                                          ColumnTransformer(transformers=[(&#x27;log&#x27;,\n",
       "                                                                                                                           FunctionTransformer(func=&lt;function log1p_transform at 0x30cdb0550&gt;),\n",
       "                                                                                                                           [&#x27;dmc&#x27;,\n",
       "                                                                                                                            &#x27;dc&#x27;]),\n",
       "                                                                                                                          (&#x27;passthrough&#x27;,\n",
       "                                                                                                                           &#x27;passthrough&#x27;,\n",
       "                                                                                                                           [&#x27;coord_x&#x27;,\n",
       "                                                                                                                            &#x27;coord_y&#x27;,\n",
       "                                                                                                                            &#x27;ffmc&#x27;,\n",
       "                                                                                                                            &#x27;isi&#x27;,\n",
       "                                                                                                                            &#x27;temp&#x27;,\n",
       "                                                                                                                            &#x27;rh&#x27;,\n",
       "                                                                                                                            &#x27;wind&#x27;,\n",
       "                                                                                                                            &#x27;rain&#x27;])])),\n",
       "                                                                                         (&#x27;scaler&#x27;,\n",
       "                                                                                          StandardScaler())]),\n",
       "                                                                         [&#x27;coord_x&#x27;,\n",
       "                                                                          &#x27;coord_y&#x27;,\n",
       "                                                                          &#x27;ffmc&#x27;,\n",
       "                                                                          &#x27;dmc&#x27;,\n",
       "                                                                          &#x27;dc&#x27;,\n",
       "                                                                          &#x27;isi&#x27;,\n",
       "                                                                          &#x27;temp&#x27;,\n",
       "                                                                          &#x27;rh&#x27;,\n",
       "                                                                          &#x27;wind&#x27;,\n",
       "                                                                          &#x27;rain&#x27;]),\n",
       "                                                                        (&#x27;cat&#x27;,\n",
       "                                                                         OneHotEncoder(handle_unknown=&#x27;ignore&#x27;),\n",
       "                                                                         [&#x27;month&#x27;,\n",
       "                                                                          &#x27;day&#x27;])])),\n",
       "                                       (&#x27;regressor&#x27;,\n",
       "                                        GradientBoostingRegressor())]),\n",
       "             param_grid={&#x27;regressor__n_estimators&#x27;: [50, 100, 200, 300]},\n",
       "             scoring=&#x27;neg_root_mean_squared_error&#x27;)</pre><b>In a Jupyter environment, please rerun this cell to show the HTML representation or trust the notebook. <br />On GitHub, the HTML representation is unable to render, please try loading this page with nbviewer.org.</b></div><div class=\"sk-container\" hidden><div class=\"sk-item sk-dashed-wrapped\"><div class=\"sk-label-container\"><div class=\"sk-label sk-toggleable\"><input class=\"sk-toggleable__control sk-hidden--visually\" id=\"sk-estimator-id-30\" type=\"checkbox\" ><label for=\"sk-estimator-id-30\" class=\"sk-toggleable__label sk-toggleable__label-arrow\">GridSearchCV</label><div class=\"sk-toggleable__content\"><pre>GridSearchCV(cv=5,\n",
       "             estimator=Pipeline(steps=[(&#x27;preprocessing&#x27;,\n",
       "                                        ColumnTransformer(transformers=[(&#x27;num&#x27;,\n",
       "                                                                         Pipeline(steps=[(&#x27;log&#x27;,\n",
       "                                                                                          ColumnTransformer(transformers=[(&#x27;log&#x27;,\n",
       "                                                                                                                           FunctionTransformer(func=&lt;function log1p_transform at 0x30cdb0550&gt;),\n",
       "                                                                                                                           [&#x27;dmc&#x27;,\n",
       "                                                                                                                            &#x27;dc&#x27;]),\n",
       "                                                                                                                          (&#x27;passthrough&#x27;,\n",
       "                                                                                                                           &#x27;passthrough&#x27;,\n",
       "                                                                                                                           [&#x27;coord_x&#x27;,\n",
       "                                                                                                                            &#x27;coord_y&#x27;,\n",
       "                                                                                                                            &#x27;ffmc&#x27;,\n",
       "                                                                                                                            &#x27;isi&#x27;,\n",
       "                                                                                                                            &#x27;temp&#x27;,\n",
       "                                                                                                                            &#x27;rh&#x27;,\n",
       "                                                                                                                            &#x27;wind&#x27;,\n",
       "                                                                                                                            &#x27;rain&#x27;])])),\n",
       "                                                                                         (&#x27;scaler&#x27;,\n",
       "                                                                                          StandardScaler())]),\n",
       "                                                                         [&#x27;coord_x&#x27;,\n",
       "                                                                          &#x27;coord_y&#x27;,\n",
       "                                                                          &#x27;ffmc&#x27;,\n",
       "                                                                          &#x27;dmc&#x27;,\n",
       "                                                                          &#x27;dc&#x27;,\n",
       "                                                                          &#x27;isi&#x27;,\n",
       "                                                                          &#x27;temp&#x27;,\n",
       "                                                                          &#x27;rh&#x27;,\n",
       "                                                                          &#x27;wind&#x27;,\n",
       "                                                                          &#x27;rain&#x27;]),\n",
       "                                                                        (&#x27;cat&#x27;,\n",
       "                                                                         OneHotEncoder(handle_unknown=&#x27;ignore&#x27;),\n",
       "                                                                         [&#x27;month&#x27;,\n",
       "                                                                          &#x27;day&#x27;])])),\n",
       "                                       (&#x27;regressor&#x27;,\n",
       "                                        GradientBoostingRegressor())]),\n",
       "             param_grid={&#x27;regressor__n_estimators&#x27;: [50, 100, 200, 300]},\n",
       "             scoring=&#x27;neg_root_mean_squared_error&#x27;)</pre></div></div></div><div class=\"sk-parallel\"><div class=\"sk-parallel-item\"><div class=\"sk-item\"><div class=\"sk-label-container\"><div class=\"sk-label sk-toggleable\"><input class=\"sk-toggleable__control sk-hidden--visually\" id=\"sk-estimator-id-31\" type=\"checkbox\" ><label for=\"sk-estimator-id-31\" class=\"sk-toggleable__label sk-toggleable__label-arrow\">estimator: Pipeline</label><div class=\"sk-toggleable__content\"><pre>Pipeline(steps=[(&#x27;preprocessing&#x27;,\n",
       "                 ColumnTransformer(transformers=[(&#x27;num&#x27;,\n",
       "                                                  Pipeline(steps=[(&#x27;log&#x27;,\n",
       "                                                                   ColumnTransformer(transformers=[(&#x27;log&#x27;,\n",
       "                                                                                                    FunctionTransformer(func=&lt;function log1p_transform at 0x30cdb0550&gt;),\n",
       "                                                                                                    [&#x27;dmc&#x27;,\n",
       "                                                                                                     &#x27;dc&#x27;]),\n",
       "                                                                                                   (&#x27;passthrough&#x27;,\n",
       "                                                                                                    &#x27;passthrough&#x27;,\n",
       "                                                                                                    [&#x27;coord_x&#x27;,\n",
       "                                                                                                     &#x27;coord_y&#x27;,\n",
       "                                                                                                     &#x27;ffmc&#x27;,\n",
       "                                                                                                     &#x27;isi&#x27;,\n",
       "                                                                                                     &#x27;temp&#x27;,\n",
       "                                                                                                     &#x27;rh&#x27;,\n",
       "                                                                                                     &#x27;wind&#x27;,\n",
       "                                                                                                     &#x27;rain&#x27;])])),\n",
       "                                                                  (&#x27;scaler&#x27;,\n",
       "                                                                   StandardScaler())]),\n",
       "                                                  [&#x27;coord_x&#x27;, &#x27;coord_y&#x27;, &#x27;ffmc&#x27;,\n",
       "                                                   &#x27;dmc&#x27;, &#x27;dc&#x27;, &#x27;isi&#x27;, &#x27;temp&#x27;,\n",
       "                                                   &#x27;rh&#x27;, &#x27;wind&#x27;, &#x27;rain&#x27;]),\n",
       "                                                 (&#x27;cat&#x27;,\n",
       "                                                  OneHotEncoder(handle_unknown=&#x27;ignore&#x27;),\n",
       "                                                  [&#x27;month&#x27;, &#x27;day&#x27;])])),\n",
       "                (&#x27;regressor&#x27;, GradientBoostingRegressor())])</pre></div></div></div><div class=\"sk-serial\"><div class=\"sk-item\"><div class=\"sk-serial\"><div class=\"sk-item sk-dashed-wrapped\"><div class=\"sk-label-container\"><div class=\"sk-label sk-toggleable\"><input class=\"sk-toggleable__control sk-hidden--visually\" id=\"sk-estimator-id-32\" type=\"checkbox\" ><label for=\"sk-estimator-id-32\" class=\"sk-toggleable__label sk-toggleable__label-arrow\">preprocessing: ColumnTransformer</label><div class=\"sk-toggleable__content\"><pre>ColumnTransformer(transformers=[(&#x27;num&#x27;,\n",
       "                                 Pipeline(steps=[(&#x27;log&#x27;,\n",
       "                                                  ColumnTransformer(transformers=[(&#x27;log&#x27;,\n",
       "                                                                                   FunctionTransformer(func=&lt;function log1p_transform at 0x30cdb0550&gt;),\n",
       "                                                                                   [&#x27;dmc&#x27;,\n",
       "                                                                                    &#x27;dc&#x27;]),\n",
       "                                                                                  (&#x27;passthrough&#x27;,\n",
       "                                                                                   &#x27;passthrough&#x27;,\n",
       "                                                                                   [&#x27;coord_x&#x27;,\n",
       "                                                                                    &#x27;coord_y&#x27;,\n",
       "                                                                                    &#x27;ffmc&#x27;,\n",
       "                                                                                    &#x27;isi&#x27;,\n",
       "                                                                                    &#x27;temp&#x27;,\n",
       "                                                                                    &#x27;rh&#x27;,\n",
       "                                                                                    &#x27;wind&#x27;,\n",
       "                                                                                    &#x27;rain&#x27;])])),\n",
       "                                                 (&#x27;scaler&#x27;, StandardScaler())]),\n",
       "                                 [&#x27;coord_x&#x27;, &#x27;coord_y&#x27;, &#x27;ffmc&#x27;, &#x27;dmc&#x27;, &#x27;dc&#x27;,\n",
       "                                  &#x27;isi&#x27;, &#x27;temp&#x27;, &#x27;rh&#x27;, &#x27;wind&#x27;, &#x27;rain&#x27;]),\n",
       "                                (&#x27;cat&#x27;, OneHotEncoder(handle_unknown=&#x27;ignore&#x27;),\n",
       "                                 [&#x27;month&#x27;, &#x27;day&#x27;])])</pre></div></div></div><div class=\"sk-parallel\"><div class=\"sk-parallel-item\"><div class=\"sk-item\"><div class=\"sk-label-container\"><div class=\"sk-label sk-toggleable\"><input class=\"sk-toggleable__control sk-hidden--visually\" id=\"sk-estimator-id-33\" type=\"checkbox\" ><label for=\"sk-estimator-id-33\" class=\"sk-toggleable__label sk-toggleable__label-arrow\">num</label><div class=\"sk-toggleable__content\"><pre>[&#x27;coord_x&#x27;, &#x27;coord_y&#x27;, &#x27;ffmc&#x27;, &#x27;dmc&#x27;, &#x27;dc&#x27;, &#x27;isi&#x27;, &#x27;temp&#x27;, &#x27;rh&#x27;, &#x27;wind&#x27;, &#x27;rain&#x27;]</pre></div></div></div><div class=\"sk-serial\"><div class=\"sk-item\"><div class=\"sk-serial\"><div class=\"sk-item sk-dashed-wrapped\"><div class=\"sk-label-container\"><div class=\"sk-label sk-toggleable\"><input class=\"sk-toggleable__control sk-hidden--visually\" id=\"sk-estimator-id-34\" type=\"checkbox\" ><label for=\"sk-estimator-id-34\" class=\"sk-toggleable__label sk-toggleable__label-arrow\">log: ColumnTransformer</label><div class=\"sk-toggleable__content\"><pre>ColumnTransformer(transformers=[(&#x27;log&#x27;,\n",
       "                                 FunctionTransformer(func=&lt;function log1p_transform at 0x30cdb0550&gt;),\n",
       "                                 [&#x27;dmc&#x27;, &#x27;dc&#x27;]),\n",
       "                                (&#x27;passthrough&#x27;, &#x27;passthrough&#x27;,\n",
       "                                 [&#x27;coord_x&#x27;, &#x27;coord_y&#x27;, &#x27;ffmc&#x27;, &#x27;isi&#x27;, &#x27;temp&#x27;,\n",
       "                                  &#x27;rh&#x27;, &#x27;wind&#x27;, &#x27;rain&#x27;])])</pre></div></div></div><div class=\"sk-parallel\"><div class=\"sk-parallel-item\"><div class=\"sk-item\"><div class=\"sk-label-container\"><div class=\"sk-label sk-toggleable\"><input class=\"sk-toggleable__control sk-hidden--visually\" id=\"sk-estimator-id-35\" type=\"checkbox\" ><label for=\"sk-estimator-id-35\" class=\"sk-toggleable__label sk-toggleable__label-arrow\">log</label><div class=\"sk-toggleable__content\"><pre>[&#x27;dmc&#x27;, &#x27;dc&#x27;]</pre></div></div></div><div class=\"sk-serial\"><div class=\"sk-item\"><div class=\"sk-estimator sk-toggleable\"><input class=\"sk-toggleable__control sk-hidden--visually\" id=\"sk-estimator-id-36\" type=\"checkbox\" ><label for=\"sk-estimator-id-36\" class=\"sk-toggleable__label sk-toggleable__label-arrow\">FunctionTransformer</label><div class=\"sk-toggleable__content\"><pre>FunctionTransformer(func=&lt;function log1p_transform at 0x30cdb0550&gt;)</pre></div></div></div></div></div></div><div class=\"sk-parallel-item\"><div class=\"sk-item\"><div class=\"sk-label-container\"><div class=\"sk-label sk-toggleable\"><input class=\"sk-toggleable__control sk-hidden--visually\" id=\"sk-estimator-id-37\" type=\"checkbox\" ><label for=\"sk-estimator-id-37\" class=\"sk-toggleable__label sk-toggleable__label-arrow\">passthrough</label><div class=\"sk-toggleable__content\"><pre>[&#x27;coord_x&#x27;, &#x27;coord_y&#x27;, &#x27;ffmc&#x27;, &#x27;isi&#x27;, &#x27;temp&#x27;, &#x27;rh&#x27;, &#x27;wind&#x27;, &#x27;rain&#x27;]</pre></div></div></div><div class=\"sk-serial\"><div class=\"sk-item\"><div class=\"sk-estimator sk-toggleable\"><input class=\"sk-toggleable__control sk-hidden--visually\" id=\"sk-estimator-id-38\" type=\"checkbox\" ><label for=\"sk-estimator-id-38\" class=\"sk-toggleable__label sk-toggleable__label-arrow\">passthrough</label><div class=\"sk-toggleable__content\"><pre>passthrough</pre></div></div></div></div></div></div></div></div><div class=\"sk-item\"><div class=\"sk-estimator sk-toggleable\"><input class=\"sk-toggleable__control sk-hidden--visually\" id=\"sk-estimator-id-39\" type=\"checkbox\" ><label for=\"sk-estimator-id-39\" class=\"sk-toggleable__label sk-toggleable__label-arrow\">StandardScaler</label><div class=\"sk-toggleable__content\"><pre>StandardScaler()</pre></div></div></div></div></div></div></div></div><div class=\"sk-parallel-item\"><div class=\"sk-item\"><div class=\"sk-label-container\"><div class=\"sk-label sk-toggleable\"><input class=\"sk-toggleable__control sk-hidden--visually\" id=\"sk-estimator-id-40\" type=\"checkbox\" ><label for=\"sk-estimator-id-40\" class=\"sk-toggleable__label sk-toggleable__label-arrow\">cat</label><div class=\"sk-toggleable__content\"><pre>[&#x27;month&#x27;, &#x27;day&#x27;]</pre></div></div></div><div class=\"sk-serial\"><div class=\"sk-item\"><div class=\"sk-estimator sk-toggleable\"><input class=\"sk-toggleable__control sk-hidden--visually\" id=\"sk-estimator-id-41\" type=\"checkbox\" ><label for=\"sk-estimator-id-41\" class=\"sk-toggleable__label sk-toggleable__label-arrow\">OneHotEncoder</label><div class=\"sk-toggleable__content\"><pre>OneHotEncoder(handle_unknown=&#x27;ignore&#x27;)</pre></div></div></div></div></div></div></div></div><div class=\"sk-item\"><div class=\"sk-estimator sk-toggleable\"><input class=\"sk-toggleable__control sk-hidden--visually\" id=\"sk-estimator-id-42\" type=\"checkbox\" ><label for=\"sk-estimator-id-42\" class=\"sk-toggleable__label sk-toggleable__label-arrow\">GradientBoostingRegressor</label><div class=\"sk-toggleable__content\"><pre>GradientBoostingRegressor()</pre></div></div></div></div></div></div></div></div></div></div></div></div>"
      ],
      "text/plain": [
       "GridSearchCV(cv=5,\n",
       "             estimator=Pipeline(steps=[('preprocessing',\n",
       "                                        ColumnTransformer(transformers=[('num',\n",
       "                                                                         Pipeline(steps=[('log',\n",
       "                                                                                          ColumnTransformer(transformers=[('log',\n",
       "                                                                                                                           FunctionTransformer(func=<function log1p_transform at 0x30cdb0550>),\n",
       "                                                                                                                           ['dmc',\n",
       "                                                                                                                            'dc']),\n",
       "                                                                                                                          ('passthrough',\n",
       "                                                                                                                           'passthrough',\n",
       "                                                                                                                           ['coord_x',\n",
       "                                                                                                                            'coord_y',\n",
       "                                                                                                                            'ffmc',\n",
       "                                                                                                                            'isi',\n",
       "                                                                                                                            'temp',\n",
       "                                                                                                                            'rh',\n",
       "                                                                                                                            'wind',\n",
       "                                                                                                                            'rain'])])),\n",
       "                                                                                         ('scaler',\n",
       "                                                                                          StandardScaler())]),\n",
       "                                                                         ['coord_x',\n",
       "                                                                          'coord_y',\n",
       "                                                                          'ffmc',\n",
       "                                                                          'dmc',\n",
       "                                                                          'dc',\n",
       "                                                                          'isi',\n",
       "                                                                          'temp',\n",
       "                                                                          'rh',\n",
       "                                                                          'wind',\n",
       "                                                                          'rain']),\n",
       "                                                                        ('cat',\n",
       "                                                                         OneHotEncoder(handle_unknown='ignore'),\n",
       "                                                                         ['month',\n",
       "                                                                          'day'])])),\n",
       "                                       ('regressor',\n",
       "                                        GradientBoostingRegressor())]),\n",
       "             param_grid={'regressor__n_estimators': [50, 100, 200, 300]},\n",
       "             scoring='neg_root_mean_squared_error')"
      ]
     },
     "execution_count": 15,
     "metadata": {},
     "output_type": "execute_result"
    }
   ],
   "source": [
    "param_grid_d = {'regressor__n_estimators': [50, 100, 200, 300]}\n",
    "gs_d = GridSearchCV(pipe_d, param_grid_d, cv=5, scoring='neg_root_mean_squared_error')\n",
    "gs_d.fit(X_train, y_train)"
   ]
  },
  {
   "cell_type": "markdown",
   "metadata": {},
   "source": [
    "# Evaluate\n",
    "\n",
    "+ Which model has the best performance?"
   ]
  },
  {
   "cell_type": "code",
   "execution_count": 16,
   "metadata": {},
   "outputs": [
    {
     "name": "stdout",
     "output_type": "stream",
     "text": [
      "Best model: pipe_c with RMSE: 96.09790539765972\n"
     ]
    }
   ],
   "source": [
    "\n",
    "# Compute RMSE for each model on the test set\n",
    "rmse_scores = {\n",
    "    'pipe_a': np.sqrt(mean_squared_error(y_test, gs_a.predict(X_test))),\n",
    "    'pipe_b': np.sqrt(mean_squared_error(y_test, gs_b.predict(X_test))),\n",
    "    'pipe_c': np.sqrt(mean_squared_error(y_test, gs_c.predict(X_test))),\n",
    "    'pipe_d': np.sqrt(mean_squared_error(y_test, gs_d.predict(X_test))),\n",
    "}\n",
    "\n",
    "# Find the best model\n",
    "best_model_name = min(rmse_scores, key=rmse_scores.get)\n",
    "print(f\"Best model: {best_model_name} with RMSE: {rmse_scores[best_model_name]}\")"
   ]
  },
  {
   "cell_type": "markdown",
   "metadata": {},
   "source": [
    "# Export\n",
    "\n",
    "+ Save the best performing model to a pickle file."
   ]
  },
  {
   "cell_type": "code",
   "execution_count": 17,
   "metadata": {},
   "outputs": [],
   "source": [
    "with open('best_forestfire_model.pkl', 'wb') as f:\n",
    "    pickle.dump(gs_d, f)"
   ]
  },
  {
   "cell_type": "markdown",
   "metadata": {},
   "source": [
    "# Explain\n",
    "\n",
    "+ Use SHAP values to explain the following only for the best-performing model:\n",
    "\n",
    "    - Select an observation in your test set and explain which are the most important features that explain that observation's specific prediction.\n",
    "\n",
    "    - In general, across the complete training set, which features are the most and least important.\n",
    "\n",
    "+ If you were to remove features from the model, which ones would you remove? Why? How would you test that these features are actually enhancing model performance?"
   ]
  },
  {
   "cell_type": "code",
   "execution_count": 46,
   "metadata": {},
   "outputs": [],
   "source": [
    "\n",
    "# Get the best model (assumed here to be gs_d)\n",
    "model = gs_d.best_estimator_\n",
    "\n",
    "# Get transformed test set (after preprocessing)\n",
    "X_test_transformed = model[:-1].transform(X_test)  # Skip final regressor for transformation\n",
    "\n",
    "# Create explainer and compute SHAP values\n",
    "explainer = shap.Explainer(model[-1].predict, X_test_transformed)\n",
    "shap_values = explainer(X_test_transformed)"
   ]
  },
  {
   "cell_type": "markdown",
   "metadata": {},
   "source": [
    "*(Answer here.)*"
   ]
  },
  {
   "cell_type": "code",
   "execution_count": 53,
   "metadata": {},
   "outputs": [
    {
     "name": "stderr",
     "output_type": "stream",
     "text": [
      "No data for colormapping provided via 'c'. Parameters 'vmin', 'vmax' will be ignored\n"
     ]
    },
    {
     "data": {
      "image/png": "[encoded data removed]",
      "text/plain": [
       "<Figure size 800x950 with 1 Axes>"
      ]
     },
     "metadata": {},
     "output_type": "display_data"
    }
   ],
   "source": [
    "# Use shap_values and X_test_transformed for the summary plot\n",
    "shap.summary_plot(shap_values, features=X_test_transformed, color_bar=False)"
   ]
  },
  {
   "cell_type": "markdown",
   "metadata": {},
   "source": [
    "Remove features that have very low or negligible SHAP importance across the dataset."
   ]
  },
  {
   "cell_type": "markdown",
   "metadata": {},
   "source": [
    "## Criteria\n",
    "\n",
    "The [rubric](./assignment_2_rubric_clean.xlsx) contains the criteria for assessment."
   ]
  },
  {
   "cell_type": "markdown",
   "metadata": {},
   "source": [
    "## Submission Information\n",
    "\n",
    "🚨 **Please review our [Assignment Submission Guide](https://github.com/UofT-DSI/onboarding/blob/main/onboarding_documents/submissions.md)** 🚨 for detailed instructions on how to format, branch, and submit your work. Following these guidelines is crucial for your submissions to be evaluated correctly.\n",
    "\n",
    "### Submission Parameters:\n",
    "* Submission Due Date: `HH:MM AM/PM - DD/MM/YYYY`\n",
    "* The branch name for your repo should be: `assignment-2`\n",
    "* What to submit for this assignment:\n",
    "    * This Jupyter Notebook (assignment_2.ipynb) should be populated and should be the only change in your pull request.\n",
    "* What the pull request link should look like for this assignment: `https://github.com/<your_github_username>/production/pull/<pr_id>`\n",
    "    * Open a private window in your browser. Copy and paste the link to your pull request into the address bar. Make sure you can see your pull request properly. This helps the technical facilitator and learning support staff review your submission easily.\n",
    "\n",
    "Checklist:\n",
    "- [ ] Created a branch with the correct naming convention.\n",
    "- [ ] Ensured that the repository is public.\n",
    "- [ ] Reviewed the PR description guidelines and adhered to them.\n",
    "- [ ] Verify that the link is accessible in a private browser window.\n",
    "\n",
    "If you encounter any difficulties or have questions, please don't hesitate to reach out to our team via our Slack at the `help` channel. Our Technical Facilitators and Learning Support staff are here to help you navigate any challenges."
   ]
  },
  {
   "cell_type": "markdown",
   "metadata": {},
   "source": [
    "# Reference\n",
    "\n",
    "Cortez,Paulo and Morais,Anbal. (2008). Forest Fires. UCI Machine Learning Repository. https://doi.org/10.24432/C5D88D."
   ]
  }
 ],
 "metadata": {
  "kernelspec": {
   "display_name": "dsi_participant",
   "language": "python",
   "name": "python3"
  },
  "language_info": {
   "codemirror_mode": {
    "name": "ipython",
    "version": 3
   },
   "file_extension": ".py",
   "mimetype": "text/x-python",
   "name": "python",
   "nbconvert_exporter": "python",
   "pygments_lexer": "ipython3",
   "version": "3.9.7"
  }
 },
 "nbformat": 4,
 "nbformat_minor": 2
}
